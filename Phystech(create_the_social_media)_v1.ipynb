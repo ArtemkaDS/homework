{
 "cells": [
  {
   "cell_type": "code",
   "execution_count": 2,
   "metadata": {
    "id": "C0gPS44Jfz2M"
   },
   "outputs": [],
   "source": [
    "from datetime import datetime\n",
    "from typing import List, Dict, Optional\n",
    "\n",
    "\n",
    "class Phystech:\n",
    "    _uid = 0\n",
    "\n",
    "    def __init__(\n",
    "        self, \n",
    "        name: str,  #Аннотация\n",
    "        login: str, #Аннотация\n",
    "        password: str, #Аннотация\n",
    "        birthday: Optional[datetime] = None,  #Аннотация\n",
    "        status: Optional[str] = None, #Аннотация\n",
    "    ):\n",
    "        self.name = name\n",
    "        self.status = status\n",
    "        self.last_online = datetime.now()\n",
    "        self._birthday = birthday\n",
    "        self.__login = login\n",
    "        self.__password = password\n",
    "        self.__uid = Phystech._uid\n",
    "        Phystech._uid += 1\n",
    "\n",
    "landau = Phystech(\n",
    "    name='Лев Давидович Ландау',  \n",
    "    birthday=datetime(year=1908, month=1, day=22),\n",
    "    status='Главное – делайте все с увлечением: это страшно украшает жизнь.',\n",
    "    login='dau',\n",
    "    password='I<3Physics'\n",
    ")"
   ]
  },
  {
   "cell_type": "code",
   "execution_count": 2,
   "metadata": {
    "colab": {
     "base_uri": "https://localhost:8080/"
    },
    "id": "-ZCAOftPfz2N",
    "outputId": "03bc8ade-14ac-4753-ae55-2c5cc3c4f0b2"
   },
   "outputs": [
    {
     "name": "stdout",
     "output_type": "stream",
     "text": [
      "<__main__.Phystech object at 0x7f712427e438> \n",
      "\n"
     ]
    }
   ],
   "source": [
    "print(landau, '\\n')"
   ]
  },
  {
   "cell_type": "code",
   "execution_count": 3,
   "metadata": {
    "colab": {
     "base_uri": "https://localhost:8080/"
    },
    "id": "onD5Jq8efz2N",
    "outputId": "fa927d6a-7944-49f9-d754-8cd79d0524ec"
   },
   "outputs": [
    {
     "data": {
      "text/plain": [
       "{'_Phystech__login': 'dau',\n",
       " '_Phystech__password': 'I<3Physics',\n",
       " '_Phystech__uid': 0,\n",
       " '_birthday': datetime.datetime(1908, 1, 22, 0, 0),\n",
       " 'last_online': datetime.datetime(2020, 12, 3, 15, 45, 53, 262243),\n",
       " 'name': 'Лев Давидович Ландау',\n",
       " 'status': 'Главное – делайте все с увлечением: это страшно украшает жизнь.'}"
      ]
     },
     "execution_count": 3,
     "metadata": {},
     "output_type": "execute_result"
    }
   ],
   "source": [
    "landau.__dict__"
   ]
  },
  {
   "cell_type": "code",
   "execution_count": 4,
   "metadata": {
    "colab": {
     "base_uri": "https://localhost:8080/"
    },
    "id": "z-uoSb9Gfz2O",
    "outputId": "79fbe519-639f-430a-b132-18fd476023c8"
   },
   "outputs": [
    {
     "data": {
      "text/plain": [
       "datetime.datetime(1908, 1, 22, 0, 0)"
      ]
     },
     "execution_count": 4,
     "metadata": {},
     "output_type": "execute_result"
    }
   ],
   "source": [
    "landau._birthday"
   ]
  },
  {
   "cell_type": "code",
   "execution_count": 5,
   "metadata": {
    "colab": {
     "base_uri": "https://localhost:8080/",
     "height": 164
    },
    "id": "_yqsS1o7fz2O",
    "outputId": "2876be04-5b15-4877-c411-83fd8a994267"
   },
   "outputs": [
    {
     "ename": "AttributeError",
     "evalue": "'Phystech' object has no attribute '__password'",
     "output_type": "error",
     "traceback": [
      "\u001b[0;31m---------------------------------------------------------------------------\u001b[0m",
      "\u001b[0;31mAttributeError\u001b[0m                            Traceback (most recent call last)",
      "\u001b[0;32m<ipython-input-5-bb1695d21eb8>\u001b[0m in \u001b[0;36m<module>\u001b[0;34m()\u001b[0m\n\u001b[0;32m----> 1\u001b[0;31m \u001b[0mlandau\u001b[0m\u001b[0;34m.\u001b[0m\u001b[0m__password\u001b[0m\u001b[0;34m\u001b[0m\u001b[0;34m\u001b[0m\u001b[0m\n\u001b[0m",
      "\u001b[0;31mAttributeError\u001b[0m: 'Phystech' object has no attribute '__password'"
     ]
    }
   ],
   "source": [
    "landau.__password"
   ]
  },
  {
   "cell_type": "code",
   "execution_count": null,
   "metadata": {
    "colab": {
     "base_uri": "https://localhost:8080/",
     "height": 35
    },
    "id": "PVI2k7C5fz2O",
    "outputId": "f447805a-69e4-447b-fa51-c7dff6e44d89"
   },
   "outputs": [],
   "source": [
    "landau._Phystech__password"
   ]
  },
  {
   "cell_type": "code",
   "execution_count": 3,
   "metadata": {
    "colab": {
     "base_uri": "https://localhost:8080/"
    },
    "id": "RF3K7_bifz2P",
    "outputId": "c77e3bcc-d75f-4c30-bad1-670b8ff8f6aa"
   },
   "outputs": [
    {
     "name": "stdout",
     "output_type": "stream",
     "text": [
      "НаФизтехе. Пользователь \"Ландау Лев Давидович\".\n",
      "День рождения: 1908-01-22 00:00:00\n",
      "Статус: \"Главное – делайте все с увлечением: это страшно украшает жизнь.\".\n",
      "Последний раз был онлайн 2020-12-03 15:50:16.378510 \n",
      "\n"
     ]
    }
   ],
   "source": [
    "\n",
    "class Phystech:\n",
    "    _uid = 0\n",
    "\n",
    "    def __init__(\n",
    "        self, name: str,  \n",
    "        login: str,\n",
    "        password: str,\n",
    "        graduation_year: Optional[int] = None,\n",
    "        birthday: Optional[datetime] = None, \n",
    "        status: Optional[str] = None,\n",
    "    ):\n",
    "        self.name = name\n",
    "        self.status = status\n",
    "        self.last_online = datetime.now()\n",
    "        self.uid = Phystech._uid\n",
    "        Phystech._uid += 1\n",
    "\n",
    "        self._birthday = birthday\n",
    "        self._graduation_year = graduation_year\n",
    "        self.__login = login\n",
    "        self.__password = password\n",
    "\n",
    "    def __str__(self) -> str:\n",
    "        str_repr_lines = [\n",
    "            f'НаФизтехе. Пользователь \\\"{self.name}\\\".',\n",
    "            'День рождения: {}'.format(\n",
    "                self._birthday if self._birthday is not None else '(скрыт)'\n",
    "            ),\n",
    "            f'Статус: \\\"{self.status}\\\".',\n",
    "            f'Последний раз был онлайн {self.last_online}'\n",
    "        ]\n",
    "        return '\\n'.join(str_repr_lines)\n",
    "\n",
    "    def __repr__(self) -> str:\n",
    "        return '\\n'.join([\n",
    "            f'uid:\\t{self._uid}', # change for __uid\n",
    "            f'last_online:\\t{self.last_online}',\n",
    "        ])\n",
    "\n",
    "    \n",
    "\n",
    "landau = Phystech(\n",
    "    name='Ландау Лев Давидович',  \n",
    "    birthday=datetime(year=1908, month=1, day=22),\n",
    "    status='Главное – делайте все с увлечением: это страшно украшает жизнь.',\n",
    "    login='dau',\n",
    "    password='I<3Physics'\n",
    ")\n",
    "print(landau, '\\n')"
   ]
  },
  {
   "cell_type": "code",
   "execution_count": null,
   "metadata": {
    "colab": {
     "base_uri": "https://localhost:8080/"
    },
    "id": "1b1LwcISfz2P",
    "outputId": "760e56dc-465f-4b80-f873-a58466080b7a"
   },
   "outputs": [],
   "source": [
    "landau"
   ]
  },
  {
   "cell_type": "markdown",
   "metadata": {
    "colab": {
     "base_uri": "https://localhost:8080/",
     "height": 52
    },
    "id": "yLWFKAGnfz2P",
    "outputId": "ed5454b2-f73f-4ad9-a327-ce8c28cd5446"
   },
   "source": [
    "Декораторы в духе @property -- специальные функции (т.н. замыкания), \n",
    "которые \"оборачиваются\" вокруг вашего кода, чтобы привнести в него \n",
    "дополнительный функционал на мета-уровне. Более строго, декоратор \n",
    "это структурный шаблон проектирования, предназначенный для динамического подключения дополнительного поведения к объекту."
   ]
  },
  {
   "cell_type": "markdown",
   "metadata": {
    "colab": {
     "base_uri": "https://localhost:8080/",
     "height": 52
    },
    "id": "xFyb-Bo2fz2P",
    "outputId": "232ac16c-333d-4faa-c619-d51e6bc9d22d"
   },
   "source": [
    "Python содержит очень удобный небольшой концепт, под названием @property, который выполняет несколько полезных задач. Мы рассмотрим, как делать следующее:\n",
    "\n",
    "Конвертация метода класс в атрибуты только для чтения"
   ]
  },
  {
   "cell_type": "code",
   "execution_count": 5,
   "metadata": {
    "id": "jVK4RZlXfz2Q"
   },
   "outputs": [],
   "source": [
    "class Person(object):\n",
    "    \"\"\"\"\"\"\n",
    "    def __init__(self, first_name, last_name):\n",
    "        \"\"\"Конструктор\"\"\"\n",
    "        self.first_name = first_name\n",
    "        self.last_name = last_name\n",
    "    \n",
    "    @property\n",
    "    def full_name(self):\n",
    "        \"\"\"\n",
    "        Возвращаем полное имя\n",
    "        \"\"\"\n",
    "        return \"%s %s\" % (self.first_name, self.last_name)"
   ]
  },
  {
   "cell_type": "code",
   "execution_count": 6,
   "metadata": {
    "colab": {
     "base_uri": "https://localhost:8080/"
    },
    "id": "6LcsAlN2fz2Q",
    "outputId": "f805ca53-1976-4fdb-c21c-4ff8c58b1ef4"
   },
   "outputs": [
    {
     "name": "stdout",
     "output_type": "stream",
     "text": [
      "Mike Driscoll\n",
      "Mike\n"
     ]
    }
   ],
   "source": [
    "person = Person(\"Mike\", \"Driscoll\")\n",
    " \n",
    "print(person.full_name) # Mike Driscoll\n",
    "print(person.first_name) # Mike"
   ]
  },
  {
   "cell_type": "code",
   "execution_count": 7,
   "metadata": {
    "colab": {
     "base_uri": "https://localhost:8080/",
     "height": 164
    },
    "id": "ttGCWVdTfz2Q",
    "outputId": "0a3662f8-fc14-491c-dece-868d46b98640"
   },
   "outputs": [
    {
     "ename": "AttributeError",
     "evalue": "can't set attribute",
     "output_type": "error",
     "traceback": [
      "\u001b[1;31m---------------------------------------------------------------------------\u001b[0m",
      "\u001b[1;31mAttributeError\u001b[0m                            Traceback (most recent call last)",
      "\u001b[1;32m<ipython-input-7-0740e4d01b1c>\u001b[0m in \u001b[0;36m<module>\u001b[1;34m\u001b[0m\n\u001b[1;32m----> 1\u001b[1;33m \u001b[0mperson\u001b[0m\u001b[1;33m.\u001b[0m\u001b[0mfull_name\u001b[0m \u001b[1;33m=\u001b[0m \u001b[1;34m\"Jackalope\"\u001b[0m \u001b[1;31m# ==> Только для чтения\u001b[0m\u001b[1;33m\u001b[0m\u001b[1;33m\u001b[0m\u001b[0m\n\u001b[0m",
      "\u001b[1;31mAttributeError\u001b[0m: can't set attribute"
     ]
    }
   ],
   "source": [
    "person.full_name = \"Jackalope\" # ==> Только для чтения"
   ]
  },
  {
   "cell_type": "code",
   "execution_count": 8,
   "metadata": {
    "id": "khnUGkBWfz2Q"
   },
   "outputs": [],
   "source": [
    "class Phystech:\n",
    "    uid = 0\n",
    "\n",
    "    def __init__(\n",
    "        self, \n",
    "        name: str,  \n",
    "        login: str,\n",
    "        password: str,\n",
    "        graduation_year: Optional[int] = None,\n",
    "        birthday: Optional[datetime] = None, \n",
    "        status: Optional[str] = None,\n",
    "    ):\n",
    "        self.name = name\n",
    "        self.status = status\n",
    "        self.last_online = datetime.now()\n",
    "        self.__uid = Phystech.uid\n",
    "        Phystech.uid += 1\n",
    "\n",
    "        self._birthday = birthday\n",
    "        self._graduation_year = graduation_year\n",
    "        self.__login = login\n",
    "        self.__password = password\n",
    "\n",
    "    @property\n",
    "    def is_graduate(self) -> Optional[bool]:\n",
    "        if self._graduation_year is not None:\n",
    "            return datetime.now().year - self._graduation_year > 0\n",
    "        return None\n",
    "\n",
    "    def __str__(self) -> str:\n",
    "        str_repr_lines = [\n",
    "            f'НаФизтехе. Пользователь \\\"{self.name}\\\".',\n",
    "            'День рождения: {}'.format(\n",
    "                self._birthday if self._birthday is not None else '(скрыт)'\n",
    "            ),\n",
    "            f'Статус: \\\"{self.status}\\\".',\n",
    "            f'Последний раз был онлайн {self.last_online}'\n",
    "        ]\n",
    "        if self.is_graduate is not None:\n",
    "            if self.is_graduate:\n",
    "                str_repr_lines.append(\n",
    "                    f'Выпускник {self._graduation_year} года'\n",
    "                )\n",
    "        return '\\n'.join(str_repr_lines)\n",
    "\n",
    "    def __repr__(self) -> str:\n",
    "        return '\\n'.join([\n",
    "            f'uid:\\t{self.__uid}',\n",
    "            f'last_online:\\t{self.last_online}',\n",
    "        ])\n",
    "\n",
    "    \n",
    "\n",
    "ovchinkin = Phystech(\n",
    "    name='Овчинкин Владимир Александрович',  \n",
    "    birthday=datetime(year=1946, month=6, day=9),\n",
    "    status='Знаете, как много надо знать, чтобы понять, как мало мы знаем.',\n",
    "    login='ovchinkin',\n",
    "    graduation_year=2021,\n",
    "    password='general_physics_rules'\n",
    ")"
   ]
  },
  {
   "cell_type": "code",
   "execution_count": null,
   "metadata": {
    "colab": {
     "base_uri": "https://localhost:8080/"
    },
    "id": "leSGjt67fz2Q",
    "outputId": "4e704877-bdca-4dc6-99ae-5fe9ed0651c9"
   },
   "outputs": [],
   "source": [
    "print(ovchinkin, '\\n')\n",
    "ovchinkin"
   ]
  },
  {
   "cell_type": "code",
   "execution_count": null,
   "metadata": {
    "colab": {
     "base_uri": "https://localhost:8080/",
     "height": 35
    },
    "id": "eKLNrpnlfz2Q",
    "outputId": "6e20445f-e054-4328-8b6b-7f9cbb4b27ea"
   },
   "outputs": [],
   "source": [
    "\"\"\"Попробуем поменять год выпуска\"\"\""
   ]
  },
  {
   "cell_type": "code",
   "execution_count": null,
   "metadata": {
    "colab": {
     "base_uri": "https://localhost:8080/"
    },
    "id": "Le_Y_Jhbfz2R",
    "outputId": "51c6db37-0907-4579-bdf0-4683d5ccc6df"
   },
   "outputs": [],
   "source": [
    "ovchinkin = Phystech(\n",
    "    name='Овчинкин Владимир Александрович',  \n",
    "    birthday=datetime(year=1946, month=6, day=9),\n",
    "    status='Знаете, как много надо знать, чтобы понять, как мало мы знаем.',\n",
    "    login='ovchinkin',\n",
    "    graduation_year=2021,\n",
    "    password='general_physics_rules'\n",
    ")\n",
    "print(ovchinkin, '\\n')\n",
    "ovchinkin"
   ]
  },
  {
   "cell_type": "code",
   "execution_count": null,
   "metadata": {
    "colab": {
     "base_uri": "https://localhost:8080/",
     "height": 35
    },
    "id": "Ho1vydHXfz2R",
    "outputId": "7affb5df-f5e5-48ce-c5d5-d7fd9965d604"
   },
   "outputs": [],
   "source": [
    "\"\"\"НАСЛЕДОВАНИЕ\"\"\""
   ]
  },
  {
   "cell_type": "code",
   "execution_count": 9,
   "metadata": {
    "colab": {
     "base_uri": "https://localhost:8080/"
    },
    "id": "dx9RLXwCfz2R",
    "outputId": "9e651cec-fe73-4e17-8a31-0e1dbc8cc4d3"
   },
   "outputs": [
    {
     "name": "stdout",
     "output_type": "stream",
     "text": [
      "НаФизтехе. Пользователь \"Пол Саймон\".\n",
      "День рождения: (скрыт)\n",
      "Статус: \"Sapere Aude!\".\n",
      "Последний раз был онлайн 2020-12-03 15:50:35.515953\n",
      "Выпускник 1986 года\n",
      "Факультет: ФОПФ \n",
      "\n"
     ]
    },
    {
     "data": {
      "text/plain": [
       "uid:\t1\n",
       "last_online:\t2020-12-03 15:50:35.515953"
      ]
     },
     "execution_count": 9,
     "metadata": {},
     "output_type": "execute_result"
    }
   ],
   "source": [
    "class Student(Phystech):\n",
    "    def __init__(\n",
    "        self, \n",
    "        name: str,  \n",
    "        login: str,\n",
    "        password: str,\n",
    "        faculty: str,\n",
    "        study_year: Optional[int] = None,\n",
    "        graduation_year: Optional[int] = None, \n",
    "        birthday: Optional[datetime] = None, \n",
    "        status: Optional[str] = None,\n",
    "    ):\n",
    "        super().__init__(\n",
    "            name=name, \n",
    "            login=login, \n",
    "            password=password, \n",
    "            birthday=birthday,\n",
    "            status=status,\n",
    "            graduation_year=graduation_year\n",
    "        )\n",
    "        self.faculty = faculty\n",
    "        self.study_year = study_year\n",
    "\n",
    "    def __str__(self) -> str:\n",
    "        str_repr_lines = [\n",
    "            super().__str__(),\n",
    "            f\"Факультет: {self.faculty}\",\n",
    "        ]\n",
    "        if self.study_year is not None:\n",
    "            str_repr_lines.append(f\"Курс: {self.study_year}\")\n",
    "        return '\\n'.join(str_repr_lines)\n",
    "\n",
    "paul_simon = Student(\n",
    "    name='Пол Саймон',\n",
    "    login='paul_simon',\n",
    "    graduation_year=1986,\n",
    "    password='I<3English',\n",
    "    faculty='ФОПФ',\n",
    "    status='Sapere Aude!'\n",
    ")\n",
    "print(paul_simon, '\\n')\n",
    "\n",
    "paul_simon"
   ]
  },
  {
   "cell_type": "code",
   "execution_count": null,
   "metadata": {
    "colab": {
     "base_uri": "https://localhost:8080/"
    },
    "id": "GSyl0ZX8fz2R",
    "outputId": "31b15929-0b81-4b57-f335-1f209540df98"
   },
   "outputs": [],
   "source": [
    "isinstance(paul_simon,  Phystech) # Возвращает флаг, указывающий на то, является ли указанный объект экземпляром указанного класса "
   ]
  },
  {
   "cell_type": "code",
   "execution_count": null,
   "metadata": {
    "colab": {
     "base_uri": "https://localhost:8080/"
    },
    "id": "Z5rQsgCIfz2S",
    "outputId": "7a99bb37-589c-4a03-d938-ab5619cacbff"
   },
   "outputs": [],
   "source": [
    "issubclass(Student, Phystech) # Возвращает флаг, указывающий на то, является ли указанный класс подклассом указанного класса "
   ]
  },
  {
   "cell_type": "code",
   "execution_count": null,
   "metadata": {
    "colab": {
     "base_uri": "https://localhost:8080/",
     "height": 103
    },
    "id": "d6EYxBo0fz2S",
    "outputId": "69424d74-4004-43d3-9534-7c138a272f8a"
   },
   "outputs": [],
   "source": [
    "\"\"\"ДОП Задание к ДЗ (Необязательно к выполнению, но приносит доп. балл)\n",
    "Дополните класс Phystech так, чтобы у пользователей появился список друзей. \n",
    "Пользователи должны быть в состоянии добавлять других в друзья по uid, удалять других из друзей; \n",
    "смотреть на список общих друзей; проверять, приняли ли заявку в друзья; \n",
    "видеть актуальный список входящих и исходящих заявок; запрещать конкретным пользователям добавлять себя в друзья.\n",
    "\n",
    "При этом любое действие пользователя должно обновлять переменную self.last_online, \n",
    "а история её значений для каждого из пользователей должна накапливаться в статическом поле класса \n",
    "(т.е. должен быть Dict[int, List[datetime]] -- отображение из uid в историю сеансов.\n",
    "\n",
    "Задание с двумя звёздочками -- сгенерировать 20 случайных пользователей, \n",
    "случайным образом просимулировать их взаимодействия, затем собрать pandas.DataFrame с данными о том, \n",
    "когда пользователи были онлайн и сколько у разных пользователей общих друзей, \n",
    "а потом визуализировать эти данные в seaborn с помощью line plots и heatmap соответственно.\"\"\""
   ]
  },
  {
   "cell_type": "code",
   "execution_count": 10,
   "metadata": {
    "colab": {
     "base_uri": "https://localhost:8080/"
    },
    "id": "3J_9FmZBfz2S",
    "outputId": "4b7c34ee-e073-448c-8a2a-4c9aac6d16a0"
   },
   "outputs": [
    {
     "name": "stdout",
     "output_type": "stream",
     "text": [
      "НаФизтехе. Пользователь \"Овчинкин Владимир Александрович\".\n",
      "День рождения: 1946-06-09 00:00:00\n",
      "Статус: \"Знаете, как много надо знать, чтобы понять, как мало мы знаем.\".\n",
      "Последний раз был онлайн 2020-12-03 15:50:39.843254 \n",
      "\n",
      "user1\n",
      "friends:  {3, 4}\n",
      "incoming requests\n",
      " \n",
      "outgoing requests\n",
      " Овчинкин Владимир Александрович(5)\n",
      "\n",
      "\n",
      "user2\n",
      "friends:  {4}\n",
      "incoming requests\n",
      " \n",
      "outgoing requests\n",
      " \n",
      "\n",
      "\n",
      "user3\n",
      "friends:  {1}\n",
      "incoming requests\n",
      " \n",
      "outgoing requests\n",
      " \n",
      "\n",
      "\n",
      "user4\n",
      "friends:  {1, 2}\n",
      "incoming requests\n",
      " \n",
      "outgoing requests\n",
      " Овчинкин Владимир Александрович(5)\n",
      "common friends with 3:  {1}\n",
      "\n",
      "\n",
      "user5\n",
      "friends:  set()\n",
      "incoming requests\n",
      " Овчинкин Владимир Александрович(1)\n",
      "Овчинкин Владимир Александрович(4)\n",
      "outgoing requests\n",
      " \n",
      "common friends with 1:  set()\n",
      "\n",
      "\n"
     ]
    }
   ],
   "source": [
    "def update_online(method_to_decorate): # декоратор для обновления self.last_online и его истории\n",
    "    def wrapper(*args, **kwargs):\n",
    "        res = method_to_decorate(*args, **kwargs)\n",
    "        self = args[0]\n",
    "\n",
    "        self.last_online = datetime.now() # задаем время последнего онлайна\n",
    "        if self._Phystech__uid not in self.__class__.log_online.keys():\n",
    "            self.__class__.log_online.update({self._Phystech__uid: []}) # если истории для пользователя еще нет, создаем\n",
    "        \n",
    "        self.__class__.log_online[self._Phystech__uid].append(self.last_online) # добавляем в историю\n",
    "        return res\n",
    "\n",
    "    return wrapper\n",
    "\n",
    "class Phystech:\n",
    "    uid = 0\n",
    "    log_online = {} # история сеансов\n",
    "    instances = {} # словарь uid: Phystech object\n",
    "\n",
    "    @update_online\n",
    "    def __init__(\n",
    "        self, \n",
    "        name: str,  \n",
    "        login: str,\n",
    "        password: str,\n",
    "        graduation_year: Optional[int] = None,\n",
    "        birthday: Optional[datetime] = None, \n",
    "        status: Optional[str] = None,\n",
    "    ):\n",
    "        self.name = name\n",
    "        self.status = status\n",
    "        self.__uid = Phystech.uid\n",
    "        Phystech.uid += 1\n",
    "\n",
    "        self._birthday = birthday\n",
    "        self._graduation_year = graduation_year\n",
    "        self.__login = login\n",
    "        self.__password = password\n",
    "\n",
    "        self.friend_list = set()\n",
    "        self.friend_incom_req = set()\n",
    "        self.friend_outgo_req = set()\n",
    "        self.block_list = set()\n",
    "\n",
    "        Phystech.instances[self.__uid] = self # после инициализации, объект добавляется в словарь \n",
    "\n",
    "    def __remove_everywhere(self, friend_uid): # удаляем uid из всех списков\n",
    "        self.friend_list.discard(friend_uid)\n",
    "        self.friend_incom_req.discard(friend_uid)\n",
    "        self.friend_outgo_req.discard(friend_uid)\n",
    "\n",
    "    def __add_friend(self, friend_uid): # добавляем в список друзей и удалаяем из запросов\n",
    "        self.friend_list.update({friend_uid})\n",
    "        self.friend_incom_req.discard(friend_uid)\n",
    "        self.friend_outgo_req.discard(friend_uid)\n",
    "    \n",
    "    @update_online\n",
    "    def remove_friend(self, friend_uid): # пользователь удаляет из друзей\n",
    "        self.friend_list.discard(friend_uid)\n",
    "        if friend_uid in Phystech.instances.keys():\n",
    "            Phystech.instances[friend_uid].friend_list.discard(self.__uid)\n",
    "        \n",
    "    @update_online\n",
    "    def block(self, block_uid): # добавляем в список заблокированных и вызываем __remove_everywhere для самого пользователя и заблокированного пользователя\n",
    "        self.block_list.update({block_uid})\n",
    "        self.__remove_everywhere(block_uid)\n",
    "        if block_uid in Phystech.instances.keys():\n",
    "            Phystech.instances[block_uid].__remove_everywhere(self.__uid)\n",
    "\n",
    "\n",
    "    @update_online\n",
    "    def send_friend_req(self, friend_uid): # отправляем запрос в друзья\n",
    "        if friend_uid in Phystech.instances.keys() and\\\n",
    "        Phystech.instances[friend_uid].receive_friend_req(self.__uid): # если не заблокирован пользователем\n",
    "            \n",
    "            if friend_uid in self.friend_incom_req: # если есть входящая заявка, то сразу в друзья\n",
    "                self.__add_friend(friend_uid)\n",
    "            else:\n",
    "                self.friend_outgo_req.update({friend_uid})\n",
    "\n",
    "\n",
    "    def receive_friend_req(self, friend_uid): # когда пользователя добавляют в друзья, вызывается через Phystech.instances\n",
    "        if friend_uid not in self.block_list:\n",
    "          if friend_uid not in self.friend_list:\n",
    "\n",
    "            if friend_uid in self.friend_outgo_req:\n",
    "                self.__add_friend(friend_uid)\n",
    "            else:\n",
    "                self.friend_incom_req.update({friend_uid})\n",
    "            \n",
    "          return True\n",
    "        return False\n",
    "    \n",
    "\n",
    "    @update_online\n",
    "    def check_common_friends(self, friend_uid): # возвращает списов общих друзей или None\n",
    "        if friend_uid in Phystech.instances.keys():\n",
    "          return self.friend_list.intersection(Phystech.instances[friend_uid].friend_list)\n",
    "        return None\n",
    "\n",
    "    @update_online\n",
    "    def get_friendship_status(self, friend_uid): # Проверяет, есть ли в друзьях (приняли ли заявку)\n",
    "        return friend_uid in self.friend_list\n",
    "\n",
    "    @update_online\n",
    "    def get_outgoing_requests(self):\n",
    "        res = []\n",
    "        for key in self.friend_outgo_req:\n",
    "          instance = Phystech.instances[key]\n",
    "          res.append(f'{instance.name}({key})')\n",
    "        return '\\n'.join(res)\n",
    "\n",
    "    @update_online\n",
    "    def get_incoming_requests(self):\n",
    "        res = []\n",
    "        for key in self.friend_incom_req:\n",
    "          instance = Phystech.instances[key]\n",
    "          res.append(f'{instance.name}({key})')\n",
    "        return '\\n'.join(res)\n",
    "\n",
    "    @property\n",
    "    def is_graduate(self) -> Optional[bool]:\n",
    "        if self._graduation_year is not None:\n",
    "            return datetime.now().year - self._graduation_year > 0\n",
    "        return None\n",
    "\n",
    "    def __str__(self) -> str:\n",
    "        str_repr_lines = [\n",
    "            f'НаФизтехе. Пользователь \\\"{self.name}\\\".',\n",
    "            'День рождения: {}'.format(\n",
    "                self._birthday if self._birthday is not None else '(скрыт)'\n",
    "            ),\n",
    "            f'Статус: \\\"{self.status}\\\".',\n",
    "            f'Последний раз был онлайн {self.last_online}'\n",
    "        ]\n",
    "        if self.is_graduate is not None:\n",
    "            if self.is_graduate:\n",
    "                str_repr_lines.append(\n",
    "                    f'Выпускник {self._graduation_year} года'\n",
    "                )\n",
    "        return '\\n'.join(str_repr_lines)\n",
    "\n",
    "    def __repr__(self) -> str:\n",
    "        return '\\n'.join([\n",
    "            f'uid:\\t{self.__uid}',\n",
    "            f'last_online:\\t{self.last_online}',\n",
    "        ])\n",
    "\n",
    "\n",
    "ovchinkin = Phystech(\n",
    "    name='Овчинкин Владимир Александрович',  \n",
    "    birthday=datetime(year=1946, month=6, day=9),\n",
    "    status='Знаете, как много надо знать, чтобы понять, как мало мы знаем.',\n",
    "    login='ovchinkin',\n",
    "    graduation_year=2021,\n",
    "    password='general_physics_rules'\n",
    ")\n",
    "print(ovchinkin, '\\n')\n",
    "\n",
    "user1 = Phystech(\n",
    "    name='Овчинкин Владимир Александрович',  \n",
    "    birthday=datetime(year=1946, month=6, day=9),\n",
    "    status='Знаете, как много надо знать, чтобы понять, как мало мы знаем.',\n",
    "    login='ovchinkin',\n",
    "    graduation_year=2021,\n",
    "    password='general_physics_rules'\n",
    ")\n",
    "user2 = Phystech(\n",
    "    name='Овчинкин Владимир Александрович',  \n",
    "    birthday=datetime(year=1946, month=6, day=9),\n",
    "    status='Знаете, как много надо знать, чтобы понять, как мало мы знаем.',\n",
    "    login='ovchinkin',\n",
    "    graduation_year=2021,\n",
    "    password='general_physics_rules'\n",
    ")\n",
    "user3 = Phystech(\n",
    "    name='Овчинкин Владимир Александрович',  \n",
    "    birthday=datetime(year=1946, month=6, day=9),\n",
    "    status='Знаете, как много надо знать, чтобы понять, как мало мы знаем.',\n",
    "    login='ovchinkin',\n",
    "    graduation_year=2021,\n",
    "    password='general_physics_rules'\n",
    ")\n",
    "user4 = Phystech(\n",
    "    name='Овчинкин Владимир Александрович',  \n",
    "    birthday=datetime(year=1946, month=6, day=9),\n",
    "    status='Знаете, как много надо знать, чтобы понять, как мало мы знаем.',\n",
    "    login='ovchinkin',\n",
    "    graduation_year=2021,\n",
    "    password='general_physics_rules'\n",
    ")\n",
    "user5 = Phystech(\n",
    "    name='Овчинкин Владимир Александрович',  \n",
    "    birthday=datetime(year=1946, month=6, day=9),\n",
    "    status='Знаете, как много надо знать, чтобы понять, как мало мы знаем.',\n",
    "    login='ovchinkin',\n",
    "    graduation_year=2021,\n",
    "    password='general_physics_rules'\n",
    ")\n",
    "\n",
    "for i in range(2, 6):\n",
    "  user1.send_friend_req(i)\n",
    "\n",
    "for i in range(1, 6, 2):\n",
    "  user2.block(i)\n",
    "user2.send_friend_req(4)\n",
    "\n",
    "user3.send_friend_req(1)\n",
    "user3.send_friend_req(2)\n",
    "user3.send_friend_req(5)\n",
    "\n",
    "user4.send_friend_req(1)\n",
    "user4.send_friend_req(2)\n",
    "user4.send_friend_req(5)\n",
    "\n",
    "user5.send_friend_req(3)\n",
    "user5.remove_friend(3)\n",
    "user5.check_common_friends(1)\n",
    "\n",
    "print('user1')\n",
    "print('friends: ', user1.friend_list)\n",
    "print('incoming requests\\n', user1.get_incoming_requests())\n",
    "print('outgoing requests\\n', user1.get_outgoing_requests())\n",
    "print('\\n')\n",
    "\n",
    "\n",
    "print('user2')\n",
    "print('friends: ', user2.friend_list)\n",
    "print('incoming requests\\n', user2.get_incoming_requests())\n",
    "print('outgoing requests\\n', user2.get_outgoing_requests())\n",
    "print('\\n')\n",
    "\n",
    "print('user3')\n",
    "print('friends: ', user3.friend_list)\n",
    "print('incoming requests\\n', user3.get_incoming_requests())\n",
    "print('outgoing requests\\n', user3.get_outgoing_requests())\n",
    "print('\\n')\n",
    "\n",
    "print('user4')\n",
    "print('friends: ', user4.friend_list)\n",
    "print('incoming requests\\n', user4.get_incoming_requests())\n",
    "print('outgoing requests\\n', user4.get_outgoing_requests())\n",
    "print('common friends with 3: ', user4.check_common_friends(3))\n",
    "print('\\n')\n",
    "\n",
    "print('user5')\n",
    "print('friends: ', user5.friend_list)\n",
    "print('incoming requests\\n', user5.get_incoming_requests())\n",
    "print('outgoing requests\\n', user5.get_outgoing_requests())\n",
    "print('common friends with 1: ', user5.check_common_friends(1))\n",
    "print('\\n')"
   ]
  },
  {
   "cell_type": "code",
   "execution_count": null,
   "metadata": {
    "id": "EfqIuJFpbc2b"
   },
   "outputs": [],
   "source": []
  }
 ],
 "metadata": {
  "colab": {
   "collapsed_sections": [],
   "name": "Phystech(create_the_social_media).ipynb",
   "provenance": []
  },
  "kernelspec": {
   "display_name": "Python 3",
   "language": "python",
   "name": "python3"
  },
  "language_info": {
   "codemirror_mode": {
    "name": "ipython",
    "version": 3
   },
   "file_extension": ".py",
   "mimetype": "text/x-python",
   "name": "python",
   "nbconvert_exporter": "python",
   "pygments_lexer": "ipython3",
   "version": "3.8.3"
  }
 },
 "nbformat": 4,
 "nbformat_minor": 1
}
