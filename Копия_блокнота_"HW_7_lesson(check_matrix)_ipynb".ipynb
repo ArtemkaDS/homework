{
  "nbformat": 4,
  "nbformat_minor": 0,
  "metadata": {
    "colab": {
      "name": "Копия блокнота \"HW_7_lesson(check_matrix).ipynb\"",
      "provenance": [],
      "collapsed_sections": [],
      "include_colab_link": true
    },
    "kernelspec": {
      "name": "python3",
      "display_name": "Python 3"
    }
  },
  "cells": [
    {
      "cell_type": "markdown",
      "metadata": {
        "id": "view-in-github",
        "colab_type": "text"
      },
      "source": [
        "<a href=\"https://colab.research.google.com/github/ArtemkaDS/homework/blob/main/%D0%9A%D0%BE%D0%BF%D0%B8%D1%8F_%D0%B1%D0%BB%D0%BE%D0%BA%D0%BD%D0%BE%D1%82%D0%B0_%22HW_7_lesson(check_matrix)_ipynb%22.ipynb\" target=\"_parent\"><img src=\"https://colab.research.google.com/assets/colab-badge.svg\" alt=\"Open In Colab\"/></a>"
      ]
    },
    {
      "cell_type": "markdown",
      "metadata": {
        "id": "PDkG3Bis38V_"
      },
      "source": [
        "# Домашнее задание к 7 уроку.\n",
        "\n",
        "**Дедлайн: 23.12.2020**"
      ]
    },
    {
      "cell_type": "markdown",
      "metadata": {
        "id": "T_frQ-789isH"
      },
      "source": [
        "colab: https://colab.research.google.com/drive/1KLD5pDCa0ka_g1U4D2ExihaaEwXzfTPW?usp=sharing"
      ]
    },
    {
      "cell_type": "markdown",
      "metadata": {
        "id": "PzhnPFbL3igE"
      },
      "source": [
        "**ФОРМАТ ОТЧЕТНОСТИ:** pdf-файл с решенными задачами (задачи 2-9), ноутбук с проверкой решения этих задач (при помощи numpy), и pdf файл с отчетом по 1-ой задаче (краткий пересказ статьи). Вы можете оформить решения с использованием Markdown (писать текст прямо в юпитер ноутбуке), Latex, Word или же решить в тетради и сформировать pdf из фото.\n",
        "\n",
        "Итого: 2 pdf файла.\n",
        "\n",
        "Все задания необходимо выполнять ВРУЧНУЮ. А также проверить корректность полученных результатов с использованием Numpy.\n",
        "\n",
        "Туториал как писать \"Latex-формулы\" прямо в Юпитере:\n",
        "https://www.youtube.com/watch?v=vSc25kdgecg\n",
        "\n",
        "Ноутбук с примером формул: https://nbviewer.jupyter.org/github/postlogist/course_opt/blob/master/jupyter_tutorial/02_markdown.ipynb\n"
      ]
    },
    {
      "cell_type": "markdown",
      "metadata": {
        "id": "RU2u4fG55fBq"
      },
      "source": [
        "## Пример\n",
        "\n",
        "\n",
        "Найдем ранг матрицы \n",
        "\n",
        "$$\\begin{pmatrix}\n",
        "1 & 2 & 3 & 4 & 5\\\\ \n",
        "2 & 5 & 8 & 11 & 14\\\\ \n",
        "3 & 9 & 14 & 20 & 26\\\\ \n",
        "5 & 14 & 22 & 31 & 40\n",
        "\\end{pmatrix}.$$\n",
        "\n",
        "Четвертая строка является суммой второй и третьей строк, а значит, ее можно отбросить:\n",
        "\n",
        "$$\\begin{pmatrix}\n",
        "1 & 2 & 3 & 4 & 5\\\\ \n",
        "2 & 5 & 8 & 11 & 14\\\\ \n",
        "3 & 9 & 14 & 20 & 26\n",
        "\\end{pmatrix}.$$\n",
        "\n",
        "Из второй и третьей строк вычтем первую, умноженную на $2$ и $3$ соответственно:\n",
        "\n",
        "$$\\begin{pmatrix}\n",
        "1 & 2 & 3 & 4 & 5\\\\ \n",
        "0 & 1 & 2 & 3 & 4\\\\ \n",
        "0 & 2 & 5 & 8 & 11\n",
        "\\end{pmatrix}.$$\n",
        "\n",
        "И вычтем из третьей строки вторую, умноженную на $2$:\n",
        "\n",
        "$$\\begin{pmatrix}\n",
        "1 & 2 & 3 & 4 & 5\\\\ \n",
        "0 & 1 & 2 & 3 & 4\\\\ \n",
        "0 & 0 & 1 & 2 & 3\n",
        "\\end{pmatrix}.$$\n",
        "\n",
        "Таким образом, ранг матрицы равен $3$."
      ]
    },
    {
      "cell_type": "code",
      "metadata": {
        "colab": {
          "base_uri": "https://localhost:8080/"
        },
        "id": "c3mJUpE65vak",
        "outputId": "6025738f-dd64-4569-a4a8-0e663301d949"
      },
      "source": [
        "# Проверка\n",
        "\n",
        "import numpy as np\n",
        "a = [1, 2, 3, 4, 5]\n",
        "b = [2, 5, 8, 11, 14]\n",
        "c = [3, 9, 14, 20, 26]\n",
        "d = [5, 14, 22, 31, 40]\n",
        "\n",
        "x = np.array([a, b, c, d])\n",
        "r = np.linalg.matrix_rank(x)\n",
        "\n",
        "print(f'Ранг матрицы: {r}')"
      ],
      "execution_count": null,
      "outputs": [
        {
          "output_type": "stream",
          "text": [
            "Ранг матрицы: 3\n"
          ],
          "name": "stdout"
        }
      ]
    },
    {
      "cell_type": "markdown",
      "metadata": {
        "id": "1NlQHLnE5iV-"
      },
      "source": [
        "# Задачи"
      ]
    },
    {
      "cell_type": "markdown",
      "metadata": {
        "id": "oOoLPT-d232H"
      },
      "source": [
        "**1.** Прочитать статью http://www.scielo.org.mx/pdf/cys/v18n3/v18n3a7.pdf и сделать следующее:\n",
        "\n",
        "- Написать кратко (не более 300 слов (минимум 100), отчет в формате pdf) о различиях между cosine similarity и soft similarity. Привести примеры использования и написать собственный пример вычисления cosine similarity и soft similarity для произвольных векторов (не брать вектора из статьи! надо самим придумать координаты/размерность векторов)"
      ]
    },
    {
      "cell_type": "markdown",
      "metadata": {
        "id": "2A79cNRu3BUA"
      },
      "source": [
        "__2.__ Найти сумму и произведение матриц $A=\\begin{pmatrix}\n",
        "1 & -2\\\\ \n",
        "3 & 0\n",
        "\\end{pmatrix}$ и $B=\\begin{pmatrix}\n",
        "4 & -1\\\\ \n",
        "0 & 5\n",
        "\\end{pmatrix}.$\n",
        "\n",
        "__3.__ Из закономерностей сложения и умножения матриц на число можно сделать вывод, что матрицы одного размера образуют линейное пространство. Вычислить линейную комбинацию $3A-2B+4C$ для матриц $A=\\begin{pmatrix}\n",
        "1 & 7\\\\ \n",
        "3 & -6\n",
        "\\end{pmatrix}$, $B=\\begin{pmatrix}\n",
        "0 & 5\\\\ \n",
        "2 & -1\n",
        "\\end{pmatrix}$, $C=\\begin{pmatrix}\n",
        "2 & -4\\\\ \n",
        "1 & 1\n",
        "\\end{pmatrix}.$\n",
        "    \n",
        "__4.__ Дана матрица $A=\\begin{pmatrix}\n",
        "4 & 1\\\\ \n",
        "5 & -2\\\\ \n",
        "2 & 3\n",
        "\\end{pmatrix}$.\n",
        "Вычислить $AA^{T}$ и $A^{T}A$.\n",
        "\n",
        "__5*.__ Написать на Python функцию для перемножения двух произвольных матриц, не используя NumPy."
      ]
    },
    {
      "cell_type": "markdown",
      "metadata": {
        "id": "-naSOZaf3L7s"
      },
      "source": [
        "\n",
        "__6.__ Вычислить определитель (используйте любой удобный для вас способ вычисления определителя: через миноры, через перестановки или другой):\n",
        "\n",
        "   a)\n",
        "\n",
        "$$\\begin{vmatrix}\n",
        "sinx & -cosx\\\\ \n",
        "cosx & sinx\n",
        "\\end{vmatrix};$$\n",
        "\n",
        "   б)\n",
        "    \n",
        "$$\\begin{vmatrix}\n",
        "8 & 4 & 6\\\\ \n",
        "0 & 5 & 1\\\\ \n",
        "0 & 0 & 9\n",
        "\\end{vmatrix};$$\n",
        "    \n",
        "   в)\n",
        "\n",
        "$$\\begin{vmatrix}\n",
        "2 & 3 & 4\\\\ \n",
        "5 & 6 & 7\\\\ \n",
        "8 & 9 & 10\n",
        "\\end{vmatrix}.$$\n",
        "\n",
        "\n",
        "__7.__ Определитель матрицы $A$ равен $4$. Найти:\n",
        "\n",
        "   а) $det(A^{2})$;\n",
        "    \n",
        "   б) $det(A^{T})$;\n",
        "    \n",
        "   в) $det(2A)$.\n",
        "   \n",
        "__8.__  Доказать, что матрица\n",
        "\n",
        "$$\\begin{pmatrix}\n",
        "-2 & 7 & -3\\\\ \n",
        "4 & -14 & 6\\\\ \n",
        "-3 & 7 & 13\n",
        "\\end{pmatrix}$$\n",
        "   \n",
        "вырожденная.\n",
        "\n",
        "__9.__ Найти ранг матрицы:\n",
        "\n",
        "   а) $\\begin{pmatrix}\n",
        "1 & 2 & 3\\\\ \n",
        "1 & 1 & 1\\\\ \n",
        "2 & 3 & 4\n",
        "\\end{pmatrix};$\n",
        "\n",
        "   б) $\\begin{pmatrix}\n",
        "0 & 0 & 2 & 1\\\\ \n",
        "0 & 0 & 2 & 2\\\\ \n",
        "0 & 0 & 4 & 3\\\\ \n",
        "2 & 3 & 5 & 6\n",
        "\\end{pmatrix}.$"
      ]
    },
    {
      "cell_type": "markdown",
      "metadata": {
        "id": "ekAaqmaE3E1T"
      },
      "source": [
        "# Доп материалы\n",
        "1. [Способы задать матрицу в NumPy](https://docs.scipy.org/doc/numpy-1.10.1/user/basics.creation.html).\n",
        "2. [numpy.transpose](https://docs.scipy.org/doc/numpy-1.10.0/reference/generated/numpy.transpose.html).\n",
        "3. [array.T](https://docs.scipy.org/doc/numpy-1.10.0/reference/generated/numpy.ndarray.T.html).\n",
        "4. [Перемножение матриц в NumPy](https://docs.scipy.org/doc/numpy-1.10.0/reference/routines.linalg.html#matrix-and-vector-products).\n",
        "\n",
        "5. [Определитель матрицы в NumPy](https://docs.scipy.org/doc/numpy-1.14.2/reference/generated/numpy.linalg.det.html)\n",
        "\n",
        "6. [Ранг матрицы в NumPy](https://docs.scipy.org/doc/numpy-1.14.2/reference/generated/numpy.linalg.matrix_rank.html)\n",
        "\n",
        "7. [Обращение матриц в NumPy](https://docs.scipy.org/doc/numpy/reference/generated/numpy.linalg.inv.html)"
      ]
    },
    {
      "cell_type": "code",
      "metadata": {
        "id": "_uDWS5oUabEq"
      },
      "source": [
        "import numpy as np"
      ],
      "execution_count": null,
      "outputs": []
    },
    {
      "cell_type": "code",
      "metadata": {
        "colab": {
          "base_uri": "https://localhost:8080/"
        },
        "id": "TapGzVR0arJD",
        "outputId": "f0fb5ed4-b098-468c-bb49-e4510a35d86c"
      },
      "source": [
        "#2\r\n",
        "A = np.array([[1,-2],[3,0]])\r\n",
        "B = np.array([[4,-1],[0,5]])\r\n",
        "print(f'Сумма матриц A + B = матрица:\\n{A+B}')"
      ],
      "execution_count": null,
      "outputs": [
        {
          "output_type": "stream",
          "text": [
            "Сумма матриц A + B = матрица:\n",
            "[[ 5 -3]\n",
            " [ 3  5]]\n"
          ],
          "name": "stdout"
        }
      ]
    },
    {
      "cell_type": "code",
      "metadata": {
        "colab": {
          "base_uri": "https://localhost:8080/"
        },
        "id": "DQZ1tq_patWC",
        "outputId": "1b7af0d3-233d-43e6-9560-d990901569f4"
      },
      "source": [
        "mtx = np.dot(A,B)\r\n",
        "print(f'Сумма матриц A x B = матрица:\\n{mtx}')"
      ],
      "execution_count": null,
      "outputs": [
        {
          "output_type": "stream",
          "text": [
            "Сумма матриц A x B = матрица:\n",
            "[[  4 -11]\n",
            " [ 12  -3]]\n"
          ],
          "name": "stdout"
        }
      ]
    },
    {
      "cell_type": "code",
      "metadata": {
        "colab": {
          "base_uri": "https://localhost:8080/"
        },
        "id": "JOifGY2NavK8",
        "outputId": "2bfee014-fbd6-426a-bdd2-f31bb88d5765"
      },
      "source": [
        "#3\r\n",
        "A = np.array([[1,7],[3,-6]])\r\n",
        "B = np.array([[0,5],[2,-1]])\r\n",
        "C = np.array([[2,-4],[1,1]])\r\n",
        "res_mtx = 3 * A - 2 * B + 4 * C\r\n",
        "print(f'Линейная комбинация 3 * A - 2 * B + 4 * C для матриц A, B и С = матрица:\\n{res_mtx}')"
      ],
      "execution_count": null,
      "outputs": [
        {
          "output_type": "stream",
          "text": [
            "Линейная комбинация 3 * A - 2 * B + 4 * C для матриц A, B и С = матрица:\n",
            "[[ 11  -5]\n",
            " [  9 -12]]\n"
          ],
          "name": "stdout"
        }
      ]
    },
    {
      "cell_type": "code",
      "metadata": {
        "colab": {
          "base_uri": "https://localhost:8080/"
        },
        "id": "yfunsfUiaxx0",
        "outputId": "b9baf0c4-79f7-4305-a0ea-11c32ca3ee29"
      },
      "source": [
        "#4\r\n",
        "A = np.array([[4,1],[5,-2],[2,3]])\r\n",
        "At = A.transpose()\r\n",
        "mtx = np.dot(A,At)\r\n",
        "print(f'Произведение матрицы на нее транспонированную = матрица:\\n{mtx}')"
      ],
      "execution_count": null,
      "outputs": [
        {
          "output_type": "stream",
          "text": [
            "Произведение матрицы на нее транспонированную = матрица:\n",
            "[[17 18 11]\n",
            " [18 29  4]\n",
            " [11  4 13]]\n"
          ],
          "name": "stdout"
        }
      ]
    },
    {
      "cell_type": "code",
      "metadata": {
        "colab": {
          "base_uri": "https://localhost:8080/"
        },
        "id": "1JQ-2i9Oaym8",
        "outputId": "9f33dc2f-79de-466d-de85-a30ee2ac6e7c"
      },
      "source": [
        "mtx = np.dot(At,A)\r\n",
        "print(f'Произведение транспонированной матрицы на нее базовую = матрица:\\n{mtx}')"
      ],
      "execution_count": null,
      "outputs": [
        {
          "output_type": "stream",
          "text": [
            "Произведение транспонированной матрицы на нее базовую = матрица:\n",
            "[[45  0]\n",
            " [ 0 14]]\n"
          ],
          "name": "stdout"
        }
      ]
    },
    {
      "cell_type": "code",
      "metadata": {
        "colab": {
          "base_uri": "https://localhost:8080/"
        },
        "id": "wrCUYov7a0So",
        "outputId": "209e9b53-f78f-4c65-ed3a-8b34d524def7"
      },
      "source": [
        "#5\r\n",
        "def matrix_mult (x, y):\r\n",
        "    z = [[0 for row in range(len(x))] for col in range(len(y[0]))]\r\n",
        "    for i in range(len(x)):\r\n",
        "        for j in range(len(y[0])):\r\n",
        "            for k in range(len(y)):\r\n",
        "                z[i][j] += x[i][k]*y[k][j]\r\n",
        "    return z\r\n",
        "mtx_mlt_no_np = matrix_mult(At,A)\r\n",
        "print(f'Произведение матриц без использования numpy = матрица:\\n{mtx_mlt_no_np}')"
      ],
      "execution_count": null,
      "outputs": [
        {
          "output_type": "stream",
          "text": [
            "Произведение матриц без использования numpy = матрица:\n",
            "[[45, 0], [0, 14]]\n"
          ],
          "name": "stdout"
        }
      ]
    },
    {
      "cell_type": "code",
      "metadata": {
        "colab": {
          "base_uri": "https://localhost:8080/"
        },
        "id": "lu84a3Noa15T",
        "outputId": "6e45feb7-e883-4726-ebc7-be9a392ff154"
      },
      "source": [
        "#6a\r\n",
        "x = 1 #takes any\r\n",
        "import numpy as np\r\n",
        "A = np.array([[np.sin(x), -(np.cos(x))],[np.cos(x), np.sin(x)]])\r\n",
        "round(np.linalg.det(A))"
      ],
      "execution_count": null,
      "outputs": [
        {
          "output_type": "execute_result",
          "data": {
            "text/plain": [
              "1"
            ]
          },
          "metadata": {
            "tags": []
          },
          "execution_count": 5
        }
      ]
    },
    {
      "cell_type": "code",
      "metadata": {
        "colab": {
          "base_uri": "https://localhost:8080/"
        },
        "id": "pOvCCR_ib-Cx",
        "outputId": "80fa035d-2110-4034-d609-33ce0c782769"
      },
      "source": [
        "#6б\r\n",
        "A = np.array([[8,4,6],[0,5,1],[0,0,9]])\r\n",
        "det_A = np.linalg.det(A)\r\n",
        "print(f'Матрица:\\n{A}')\r\n",
        "print(f'Определитель:\\n{det_A:.0f}')"
      ],
      "execution_count": null,
      "outputs": [
        {
          "output_type": "stream",
          "text": [
            "Матрица:\n",
            "[[8 4 6]\n",
            " [0 5 1]\n",
            " [0 0 9]]\n",
            "Определитель:\n",
            "360\n"
          ],
          "name": "stdout"
        }
      ]
    },
    {
      "cell_type": "code",
      "metadata": {
        "colab": {
          "base_uri": "https://localhost:8080/"
        },
        "id": "4wjDaceUdx0y",
        "outputId": "d0fad992-360a-47de-e5de-edbff23858a1"
      },
      "source": [
        "#6в\r\n",
        "A = np.array([[2,3,4],[5,6,7],[8,9,10]])\r\n",
        "det_A = np.linalg.det(A)\r\n",
        "det_A\r\n",
        "print(f'Матрица:\\n{A}')\r\n",
        "print(f'Определитель:\\n{det_A:.0f}')"
      ],
      "execution_count": null,
      "outputs": [
        {
          "output_type": "stream",
          "text": [
            "Матрица:\n",
            "[[ 2  3  4]\n",
            " [ 5  6  7]\n",
            " [ 8  9 10]]\n",
            "Определитель:\n",
            "0\n"
          ],
          "name": "stdout"
        }
      ]
    },
    {
      "cell_type": "code",
      "metadata": {
        "colab": {
          "base_uri": "https://localhost:8080/"
        },
        "id": "xyS4roxUe8t6",
        "outputId": "2614cd79-6967-459d-e450-70d12701ed3c"
      },
      "source": [
        "#7а\r\n",
        "detA = 4\r\n",
        "detAsquare = detA**2 #при квадратных матрицах одинакового порядка определитель произведения матриц равен произведению определителей:\r\n",
        "detAsquare"
      ],
      "execution_count": null,
      "outputs": [
        {
          "output_type": "execute_result",
          "data": {
            "text/plain": [
              "16"
            ]
          },
          "metadata": {
            "tags": []
          },
          "execution_count": 9
        }
      ]
    },
    {
      "cell_type": "code",
      "metadata": {
        "colab": {
          "base_uri": "https://localhost:8080/"
        },
        "id": "imi3oaAE0F4u",
        "outputId": "9c04fdfa-2bb8-4708-bd42-7b5cd08ebac1"
      },
      "source": [
        "#7б\r\n",
        "detAt = detA #Определитель транспонированной матрицы равен определителю исходной матрицы:\r\n",
        "detAt"
      ],
      "execution_count": null,
      "outputs": [
        {
          "output_type": "execute_result",
          "data": {
            "text/plain": [
              "4"
            ]
          },
          "metadata": {
            "tags": []
          },
          "execution_count": 10
        }
      ]
    },
    {
      "cell_type": "code",
      "metadata": {
        "colab": {
          "base_uri": "https://localhost:8080/"
        },
        "id": "n_byJJ560TFt",
        "outputId": "73df1c4c-0d96-4046-ce92-944b31d83e80"
      },
      "source": [
        "#7в\r\n",
        "#det(x*A) при умножении всей матрицы A на число x определитель полученной матрицы равен произведению определителя исходной матрицы detA на число x в степени, равной порядку матрицы (из свойства умножения строки на число)\r\n",
        "x = 2\r\n",
        "detA = 4\r\n",
        "n = 3 #порядок квадратной матрицы, пусть 3\r\n",
        "det2A = (detA * (x ** n))\r\n",
        "det2A\r\n"
      ],
      "execution_count": null,
      "outputs": [
        {
          "output_type": "execute_result",
          "data": {
            "text/plain": [
              "32"
            ]
          },
          "metadata": {
            "tags": []
          },
          "execution_count": 23
        }
      ]
    },
    {
      "cell_type": "code",
      "metadata": {
        "colab": {
          "base_uri": "https://localhost:8080/"
        },
        "id": "61JbHOIf2y04",
        "outputId": "5077bc4e-109a-42de-8d3d-8e83be732db5"
      },
      "source": [
        "#8\r\n",
        "A = np.array([[-2,7,-3],[4,-14,6],[-3,7,13]])\r\n",
        "detA = np.linalg.det(A)\r\n",
        "print(f'Determinant of matrix A equals {int(detA)}.')\r\n",
        "print('Therefore', end=' ')\r\n",
        "if detA == 0:\r\n",
        "  print('matrix A is degenterate (bc its determinant equals 0).')\r\n",
        "else:\r\n",
        "  print('matrix A is nondegenerate (bc its determinant is more than 0).')"
      ],
      "execution_count": null,
      "outputs": [
        {
          "output_type": "stream",
          "text": [
            "Determinant of matrix A equals 0.\n",
            "Therefore matrix A is degenterate (bc its determinant equals 0).\n"
          ],
          "name": "stdout"
        }
      ]
    },
    {
      "cell_type": "code",
      "metadata": {
        "colab": {
          "base_uri": "https://localhost:8080/"
        },
        "id": "WtiOVW9KBfSW",
        "outputId": "5d61555a-49a5-4972-d896-537a3b52981a"
      },
      "source": [
        "#9a\r\n",
        "A = np.array([[1,2,3],[1,1,1],[2,3,4]])\r\n",
        "A_rank = np.linalg.matrix_rank(A)\r\n",
        "print(f'Matrix rank is {A_rank}.')"
      ],
      "execution_count": null,
      "outputs": [
        {
          "output_type": "stream",
          "text": [
            "Matrix rank is 2.\n"
          ],
          "name": "stdout"
        }
      ]
    },
    {
      "cell_type": "code",
      "metadata": {
        "colab": {
          "base_uri": "https://localhost:8080/"
        },
        "id": "owp629LuH1Xa",
        "outputId": "4a65da8d-e51d-407c-a5e2-00f76a6bfbd9"
      },
      "source": [
        "A = np.array([[0,0,2,1],[0,0,2,2],[0,0,4,3],[2,3,5,6]])\r\n",
        "A_rank = np.linalg.matrix_rank(A)\r\n",
        "print(f'Matrix rank is {A_rank}.')"
      ],
      "execution_count": null,
      "outputs": [
        {
          "output_type": "stream",
          "text": [
            "Matrix rank is 3.\n"
          ],
          "name": "stdout"
        }
      ]
    }
  ]
}