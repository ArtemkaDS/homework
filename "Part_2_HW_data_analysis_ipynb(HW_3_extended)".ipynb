{
  "nbformat": 4,
  "nbformat_minor": 0,
  "metadata": {
    "colab": {
      "name": "\"Part_2_HW_data_analysis.ipynb\"",
      "provenance": [],
      "collapsed_sections": [],
      "include_colab_link": true
    },
    "kernelspec": {
      "name": "python3",
      "display_name": "Python 3"
    }
  },
  "cells": [
    {
      "cell_type": "markdown",
      "metadata": {
        "id": "view-in-github",
        "colab_type": "text"
      },
      "source": [
        "<a href=\"https://colab.research.google.com/github/ArtemkaDS/homework/blob/main/%22Part_2_HW_data_analysis_ipynb(HW_3_extended)%22.ipynb\" target=\"_parent\"><img src=\"https://colab.research.google.com/assets/colab-badge.svg\" alt=\"Open In Colab\"/></a>"
      ]
    },
    {
      "cell_type": "markdown",
      "metadata": {
        "id": "sVt9Gn6oPL9h"
      },
      "source": [
        "## Домашнее задание. Часть 2.\n",
        "\n",
        "\n",
        "Вего за эту часть ДЗ можно набрать максимум **8.5 баллов**. Разбиение баллов по каждой из задач представлено непосредственно перед текстом каждой задачи.\n",
        "\n",
        "**Дедлайн - пятница, 11.12.2020 в 23:59.**\n",
        "\n",
        "Дедлайн жесткий, сдача после дедлайна - 0 баллов за ДЗ.\n",
        "\n",
        "Ссылка на ноутбук в колабе: https://colab.research.google.com/drive/18Yom8NjCpK0XAVaO6-RzNs9--foqKtio?usp=sharing\n",
        "\n",
        "В этой части ДЗ Вам необходимо будет работать с датасетами - все они лежат в репозитории курса, а именно https://github.com/ddvika/Data-Science-School-2020/tree/main/hw_intermediate в папке `\"materials\"`\n",
        "\n",
        "а также на гугл диске:\n",
        "https://drive.google.com/drive/folders/1mvcBvJ_2341foynNnvmkJh3EJdS4_b4m?usp=sharing\n",
        "\n",
        "Вы можете обойтись и без скачивания, тк все данные импортируются напрямую из гитхаб"
      ]
    },
    {
      "cell_type": "markdown",
      "metadata": {
        "id": "LeUfW2A1PVqp"
      },
      "source": [
        "# Задание 1\n",
        "файл 'file_example_XLSX_1000.xlsx' лежит в репозитории и на гугл диске по ссылке выше"
      ]
    },
    {
      "cell_type": "markdown",
      "metadata": {
        "id": "5TBfORBwQXPQ"
      },
      "source": [
        "**0.5 point**\n",
        "\n",
        "- убрать ненужный столбец Unnamed\n",
        "\n",
        "**0.5 point**\n",
        "- Отсортировать людей по возрасту\n",
        "\n",
        "**0.5 point**\n",
        "- разделить людей по полу (сохраните в переменные female, male)\n",
        "\n",
        "**1 point**\n",
        "- построить гистограмму возрастов для мужчин и гистограмму возрастов для женщин"
      ]
    },
    {
      "cell_type": "code",
      "metadata": {
        "colab": {
          "base_uri": "https://localhost:8080/",
          "height": 406
        },
        "id": "utpj-YhpPNCe",
        "outputId": "2baffbb8-0356-4fae-beb0-6dcb35add439"
      },
      "source": [
        "import pandas as pd\n",
        "df = pd.read_excel('https://github.com/ddvika/Data-Science-School-2020/blob/main/hw_intermediate/materials/file_example_XLSX_1000.xlsx?raw=true')\n",
        "df"
      ],
      "execution_count": 3,
      "outputs": [
        {
          "output_type": "execute_result",
          "data": {
            "text/html": [
              "<div>\n",
              "<style scoped>\n",
              "    .dataframe tbody tr th:only-of-type {\n",
              "        vertical-align: middle;\n",
              "    }\n",
              "\n",
              "    .dataframe tbody tr th {\n",
              "        vertical-align: top;\n",
              "    }\n",
              "\n",
              "    .dataframe thead th {\n",
              "        text-align: right;\n",
              "    }\n",
              "</style>\n",
              "<table border=\"1\" class=\"dataframe\">\n",
              "  <thead>\n",
              "    <tr style=\"text-align: right;\">\n",
              "      <th></th>\n",
              "      <th>Unnamed: 0</th>\n",
              "      <th>First Name</th>\n",
              "      <th>Last Name</th>\n",
              "      <th>Gender</th>\n",
              "      <th>Country</th>\n",
              "      <th>Age</th>\n",
              "      <th>Date</th>\n",
              "      <th>Id</th>\n",
              "    </tr>\n",
              "  </thead>\n",
              "  <tbody>\n",
              "    <tr>\n",
              "      <th>0</th>\n",
              "      <td>1</td>\n",
              "      <td>Dulce</td>\n",
              "      <td>Abril</td>\n",
              "      <td>Female</td>\n",
              "      <td>United States</td>\n",
              "      <td>32</td>\n",
              "      <td>15/10/2017</td>\n",
              "      <td>1562</td>\n",
              "    </tr>\n",
              "    <tr>\n",
              "      <th>1</th>\n",
              "      <td>2</td>\n",
              "      <td>Mara</td>\n",
              "      <td>Hashimoto</td>\n",
              "      <td>Female</td>\n",
              "      <td>Great Britain</td>\n",
              "      <td>25</td>\n",
              "      <td>16/08/2016</td>\n",
              "      <td>1582</td>\n",
              "    </tr>\n",
              "    <tr>\n",
              "      <th>2</th>\n",
              "      <td>3</td>\n",
              "      <td>Philip</td>\n",
              "      <td>Gent</td>\n",
              "      <td>Male</td>\n",
              "      <td>France</td>\n",
              "      <td>36</td>\n",
              "      <td>21/05/2015</td>\n",
              "      <td>2587</td>\n",
              "    </tr>\n",
              "    <tr>\n",
              "      <th>3</th>\n",
              "      <td>4</td>\n",
              "      <td>Kathleen</td>\n",
              "      <td>Hanner</td>\n",
              "      <td>Female</td>\n",
              "      <td>United States</td>\n",
              "      <td>25</td>\n",
              "      <td>15/10/2017</td>\n",
              "      <td>3549</td>\n",
              "    </tr>\n",
              "    <tr>\n",
              "      <th>4</th>\n",
              "      <td>5</td>\n",
              "      <td>Nereida</td>\n",
              "      <td>Magwood</td>\n",
              "      <td>Female</td>\n",
              "      <td>United States</td>\n",
              "      <td>58</td>\n",
              "      <td>16/08/2016</td>\n",
              "      <td>2468</td>\n",
              "    </tr>\n",
              "    <tr>\n",
              "      <th>...</th>\n",
              "      <td>...</td>\n",
              "      <td>...</td>\n",
              "      <td>...</td>\n",
              "      <td>...</td>\n",
              "      <td>...</td>\n",
              "      <td>...</td>\n",
              "      <td>...</td>\n",
              "      <td>...</td>\n",
              "    </tr>\n",
              "    <tr>\n",
              "      <th>995</th>\n",
              "      <td>996</td>\n",
              "      <td>Roma</td>\n",
              "      <td>Lafollette</td>\n",
              "      <td>Female</td>\n",
              "      <td>United States</td>\n",
              "      <td>34</td>\n",
              "      <td>15/10/2017</td>\n",
              "      <td>2654</td>\n",
              "    </tr>\n",
              "    <tr>\n",
              "      <th>996</th>\n",
              "      <td>997</td>\n",
              "      <td>Felisa</td>\n",
              "      <td>Cail</td>\n",
              "      <td>Female</td>\n",
              "      <td>United States</td>\n",
              "      <td>28</td>\n",
              "      <td>16/08/2016</td>\n",
              "      <td>6525</td>\n",
              "    </tr>\n",
              "    <tr>\n",
              "      <th>997</th>\n",
              "      <td>998</td>\n",
              "      <td>Demetria</td>\n",
              "      <td>Abbey</td>\n",
              "      <td>Female</td>\n",
              "      <td>United States</td>\n",
              "      <td>32</td>\n",
              "      <td>21/05/2015</td>\n",
              "      <td>3265</td>\n",
              "    </tr>\n",
              "    <tr>\n",
              "      <th>998</th>\n",
              "      <td>999</td>\n",
              "      <td>Jeromy</td>\n",
              "      <td>Danz</td>\n",
              "      <td>Male</td>\n",
              "      <td>United States</td>\n",
              "      <td>39</td>\n",
              "      <td>15/10/2017</td>\n",
              "      <td>3265</td>\n",
              "    </tr>\n",
              "    <tr>\n",
              "      <th>999</th>\n",
              "      <td>1000</td>\n",
              "      <td>Rasheeda</td>\n",
              "      <td>Alkire</td>\n",
              "      <td>Female</td>\n",
              "      <td>United States</td>\n",
              "      <td>29</td>\n",
              "      <td>16/08/2016</td>\n",
              "      <td>6125</td>\n",
              "    </tr>\n",
              "  </tbody>\n",
              "</table>\n",
              "<p>1000 rows × 8 columns</p>\n",
              "</div>"
            ],
            "text/plain": [
              "     Unnamed: 0 First Name   Last Name  ... Age        Date    Id\n",
              "0             1      Dulce       Abril  ...  32  15/10/2017  1562\n",
              "1             2       Mara   Hashimoto  ...  25  16/08/2016  1582\n",
              "2             3     Philip        Gent  ...  36  21/05/2015  2587\n",
              "3             4   Kathleen      Hanner  ...  25  15/10/2017  3549\n",
              "4             5    Nereida     Magwood  ...  58  16/08/2016  2468\n",
              "..          ...        ...         ...  ...  ..         ...   ...\n",
              "995         996       Roma  Lafollette  ...  34  15/10/2017  2654\n",
              "996         997     Felisa        Cail  ...  28  16/08/2016  6525\n",
              "997         998   Demetria       Abbey  ...  32  21/05/2015  3265\n",
              "998         999     Jeromy        Danz  ...  39  15/10/2017  3265\n",
              "999        1000   Rasheeda      Alkire  ...  29  16/08/2016  6125\n",
              "\n",
              "[1000 rows x 8 columns]"
            ]
          },
          "metadata": {
            "tags": []
          },
          "execution_count": 3
        }
      ]
    },
    {
      "cell_type": "code",
      "metadata": {
        "id": "tB25_D_zPNFV"
      },
      "source": [
        "#TODO\r\n",
        "df = df.drop(['Unnamed: 0'], axis=1)"
      ],
      "execution_count": null,
      "outputs": []
    },
    {
      "cell_type": "code",
      "metadata": {
        "colab": {
          "base_uri": "https://localhost:8080/",
          "height": 406
        },
        "id": "mc3ZovStlePI",
        "outputId": "5b23f23c-3a4e-4ec8-b13f-316448859d39"
      },
      "source": [
        "df = df.sort_values('Age')\r\n",
        "df"
      ],
      "execution_count": null,
      "outputs": [
        {
          "output_type": "execute_result",
          "data": {
            "text/html": [
              "<div>\n",
              "<style scoped>\n",
              "    .dataframe tbody tr th:only-of-type {\n",
              "        vertical-align: middle;\n",
              "    }\n",
              "\n",
              "    .dataframe tbody tr th {\n",
              "        vertical-align: top;\n",
              "    }\n",
              "\n",
              "    .dataframe thead th {\n",
              "        text-align: right;\n",
              "    }\n",
              "</style>\n",
              "<table border=\"1\" class=\"dataframe\">\n",
              "  <thead>\n",
              "    <tr style=\"text-align: right;\">\n",
              "      <th></th>\n",
              "      <th>First Name</th>\n",
              "      <th>Last Name</th>\n",
              "      <th>Gender</th>\n",
              "      <th>Country</th>\n",
              "      <th>Age</th>\n",
              "      <th>Date</th>\n",
              "      <th>Id</th>\n",
              "    </tr>\n",
              "  </thead>\n",
              "  <tbody>\n",
              "    <tr>\n",
              "      <th>824</th>\n",
              "      <td>Lester</td>\n",
              "      <td>Prothro</td>\n",
              "      <td>Male</td>\n",
              "      <td>France</td>\n",
              "      <td>21</td>\n",
              "      <td>15/10/2017</td>\n",
              "      <td>6574</td>\n",
              "    </tr>\n",
              "    <tr>\n",
              "      <th>24</th>\n",
              "      <td>Lester</td>\n",
              "      <td>Prothro</td>\n",
              "      <td>Male</td>\n",
              "      <td>France</td>\n",
              "      <td>21</td>\n",
              "      <td>15/10/2017</td>\n",
              "      <td>6574</td>\n",
              "    </tr>\n",
              "    <tr>\n",
              "      <th>574</th>\n",
              "      <td>Lester</td>\n",
              "      <td>Prothro</td>\n",
              "      <td>Male</td>\n",
              "      <td>France</td>\n",
              "      <td>21</td>\n",
              "      <td>15/10/2017</td>\n",
              "      <td>6574</td>\n",
              "    </tr>\n",
              "    <tr>\n",
              "      <th>324</th>\n",
              "      <td>Lester</td>\n",
              "      <td>Prothro</td>\n",
              "      <td>Male</td>\n",
              "      <td>France</td>\n",
              "      <td>21</td>\n",
              "      <td>15/10/2017</td>\n",
              "      <td>6574</td>\n",
              "    </tr>\n",
              "    <tr>\n",
              "      <th>124</th>\n",
              "      <td>Lester</td>\n",
              "      <td>Prothro</td>\n",
              "      <td>Male</td>\n",
              "      <td>France</td>\n",
              "      <td>21</td>\n",
              "      <td>15/10/2017</td>\n",
              "      <td>6574</td>\n",
              "    </tr>\n",
              "    <tr>\n",
              "      <th>...</th>\n",
              "      <td>...</td>\n",
              "      <td>...</td>\n",
              "      <td>...</td>\n",
              "      <td>...</td>\n",
              "      <td>...</td>\n",
              "      <td>...</td>\n",
              "      <td>...</td>\n",
              "    </tr>\n",
              "    <tr>\n",
              "      <th>954</th>\n",
              "      <td>Nereida</td>\n",
              "      <td>Magwood</td>\n",
              "      <td>Female</td>\n",
              "      <td>United States</td>\n",
              "      <td>58</td>\n",
              "      <td>16/08/2016</td>\n",
              "      <td>2468</td>\n",
              "    </tr>\n",
              "    <tr>\n",
              "      <th>54</th>\n",
              "      <td>Nereida</td>\n",
              "      <td>Magwood</td>\n",
              "      <td>Female</td>\n",
              "      <td>United States</td>\n",
              "      <td>58</td>\n",
              "      <td>16/08/2016</td>\n",
              "      <td>2468</td>\n",
              "    </tr>\n",
              "    <tr>\n",
              "      <th>654</th>\n",
              "      <td>Nereida</td>\n",
              "      <td>Magwood</td>\n",
              "      <td>Female</td>\n",
              "      <td>United States</td>\n",
              "      <td>58</td>\n",
              "      <td>16/08/2016</td>\n",
              "      <td>2468</td>\n",
              "    </tr>\n",
              "    <tr>\n",
              "      <th>504</th>\n",
              "      <td>Nereida</td>\n",
              "      <td>Magwood</td>\n",
              "      <td>Female</td>\n",
              "      <td>United States</td>\n",
              "      <td>58</td>\n",
              "      <td>16/08/2016</td>\n",
              "      <td>2468</td>\n",
              "    </tr>\n",
              "    <tr>\n",
              "      <th>154</th>\n",
              "      <td>Nereida</td>\n",
              "      <td>Magwood</td>\n",
              "      <td>Female</td>\n",
              "      <td>United States</td>\n",
              "      <td>58</td>\n",
              "      <td>16/08/2016</td>\n",
              "      <td>2468</td>\n",
              "    </tr>\n",
              "  </tbody>\n",
              "</table>\n",
              "<p>1000 rows × 7 columns</p>\n",
              "</div>"
            ],
            "text/plain": [
              "    First Name Last Name  Gender        Country  Age        Date    Id\n",
              "824     Lester   Prothro    Male         France   21  15/10/2017  6574\n",
              "24      Lester   Prothro    Male         France   21  15/10/2017  6574\n",
              "574     Lester   Prothro    Male         France   21  15/10/2017  6574\n",
              "324     Lester   Prothro    Male         France   21  15/10/2017  6574\n",
              "124     Lester   Prothro    Male         France   21  15/10/2017  6574\n",
              "..         ...       ...     ...            ...  ...         ...   ...\n",
              "954    Nereida   Magwood  Female  United States   58  16/08/2016  2468\n",
              "54     Nereida   Magwood  Female  United States   58  16/08/2016  2468\n",
              "654    Nereida   Magwood  Female  United States   58  16/08/2016  2468\n",
              "504    Nereida   Magwood  Female  United States   58  16/08/2016  2468\n",
              "154    Nereida   Magwood  Female  United States   58  16/08/2016  2468\n",
              "\n",
              "[1000 rows x 7 columns]"
            ]
          },
          "metadata": {
            "tags": []
          },
          "execution_count": 4
        }
      ]
    },
    {
      "cell_type": "code",
      "metadata": {
        "colab": {
          "base_uri": "https://localhost:8080/",
          "height": 406
        },
        "id": "yxfS5vYeoBK5",
        "outputId": "023a4f25-b560-4ab3-df6c-a44b9eec0372"
      },
      "source": [
        "female = df.loc[df['Gender'] == 'Female']\r\n",
        "female"
      ],
      "execution_count": null,
      "outputs": [
        {
          "output_type": "execute_result",
          "data": {
            "text/html": [
              "<div>\n",
              "<style scoped>\n",
              "    .dataframe tbody tr th:only-of-type {\n",
              "        vertical-align: middle;\n",
              "    }\n",
              "\n",
              "    .dataframe tbody tr th {\n",
              "        vertical-align: top;\n",
              "    }\n",
              "\n",
              "    .dataframe thead th {\n",
              "        text-align: right;\n",
              "    }\n",
              "</style>\n",
              "<table border=\"1\" class=\"dataframe\">\n",
              "  <thead>\n",
              "    <tr style=\"text-align: right;\">\n",
              "      <th></th>\n",
              "      <th>First Name</th>\n",
              "      <th>Last Name</th>\n",
              "      <th>Gender</th>\n",
              "      <th>Country</th>\n",
              "      <th>Age</th>\n",
              "      <th>Date</th>\n",
              "      <th>Id</th>\n",
              "    </tr>\n",
              "  </thead>\n",
              "  <tbody>\n",
              "    <tr>\n",
              "      <th>277</th>\n",
              "      <td>Francesca</td>\n",
              "      <td>Beaudreau</td>\n",
              "      <td>Female</td>\n",
              "      <td>France</td>\n",
              "      <td>23</td>\n",
              "      <td>15/10/2017</td>\n",
              "      <td>5412</td>\n",
              "    </tr>\n",
              "    <tr>\n",
              "      <th>227</th>\n",
              "      <td>Francesca</td>\n",
              "      <td>Beaudreau</td>\n",
              "      <td>Female</td>\n",
              "      <td>France</td>\n",
              "      <td>23</td>\n",
              "      <td>15/10/2017</td>\n",
              "      <td>5412</td>\n",
              "    </tr>\n",
              "    <tr>\n",
              "      <th>77</th>\n",
              "      <td>Francesca</td>\n",
              "      <td>Beaudreau</td>\n",
              "      <td>Female</td>\n",
              "      <td>France</td>\n",
              "      <td>23</td>\n",
              "      <td>15/10/2017</td>\n",
              "      <td>5412</td>\n",
              "    </tr>\n",
              "    <tr>\n",
              "      <th>577</th>\n",
              "      <td>Francesca</td>\n",
              "      <td>Beaudreau</td>\n",
              "      <td>Female</td>\n",
              "      <td>France</td>\n",
              "      <td>23</td>\n",
              "      <td>15/10/2017</td>\n",
              "      <td>5412</td>\n",
              "    </tr>\n",
              "    <tr>\n",
              "      <th>177</th>\n",
              "      <td>Francesca</td>\n",
              "      <td>Beaudreau</td>\n",
              "      <td>Female</td>\n",
              "      <td>France</td>\n",
              "      <td>23</td>\n",
              "      <td>15/10/2017</td>\n",
              "      <td>5412</td>\n",
              "    </tr>\n",
              "    <tr>\n",
              "      <th>...</th>\n",
              "      <td>...</td>\n",
              "      <td>...</td>\n",
              "      <td>...</td>\n",
              "      <td>...</td>\n",
              "      <td>...</td>\n",
              "      <td>...</td>\n",
              "      <td>...</td>\n",
              "    </tr>\n",
              "    <tr>\n",
              "      <th>954</th>\n",
              "      <td>Nereida</td>\n",
              "      <td>Magwood</td>\n",
              "      <td>Female</td>\n",
              "      <td>United States</td>\n",
              "      <td>58</td>\n",
              "      <td>16/08/2016</td>\n",
              "      <td>2468</td>\n",
              "    </tr>\n",
              "    <tr>\n",
              "      <th>54</th>\n",
              "      <td>Nereida</td>\n",
              "      <td>Magwood</td>\n",
              "      <td>Female</td>\n",
              "      <td>United States</td>\n",
              "      <td>58</td>\n",
              "      <td>16/08/2016</td>\n",
              "      <td>2468</td>\n",
              "    </tr>\n",
              "    <tr>\n",
              "      <th>654</th>\n",
              "      <td>Nereida</td>\n",
              "      <td>Magwood</td>\n",
              "      <td>Female</td>\n",
              "      <td>United States</td>\n",
              "      <td>58</td>\n",
              "      <td>16/08/2016</td>\n",
              "      <td>2468</td>\n",
              "    </tr>\n",
              "    <tr>\n",
              "      <th>504</th>\n",
              "      <td>Nereida</td>\n",
              "      <td>Magwood</td>\n",
              "      <td>Female</td>\n",
              "      <td>United States</td>\n",
              "      <td>58</td>\n",
              "      <td>16/08/2016</td>\n",
              "      <td>2468</td>\n",
              "    </tr>\n",
              "    <tr>\n",
              "      <th>154</th>\n",
              "      <td>Nereida</td>\n",
              "      <td>Magwood</td>\n",
              "      <td>Female</td>\n",
              "      <td>United States</td>\n",
              "      <td>58</td>\n",
              "      <td>16/08/2016</td>\n",
              "      <td>2468</td>\n",
              "    </tr>\n",
              "  </tbody>\n",
              "</table>\n",
              "<p>760 rows × 7 columns</p>\n",
              "</div>"
            ],
            "text/plain": [
              "    First Name  Last Name  Gender        Country  Age        Date    Id\n",
              "277  Francesca  Beaudreau  Female         France   23  15/10/2017  5412\n",
              "227  Francesca  Beaudreau  Female         France   23  15/10/2017  5412\n",
              "77   Francesca  Beaudreau  Female         France   23  15/10/2017  5412\n",
              "577  Francesca  Beaudreau  Female         France   23  15/10/2017  5412\n",
              "177  Francesca  Beaudreau  Female         France   23  15/10/2017  5412\n",
              "..         ...        ...     ...            ...  ...         ...   ...\n",
              "954    Nereida    Magwood  Female  United States   58  16/08/2016  2468\n",
              "54     Nereida    Magwood  Female  United States   58  16/08/2016  2468\n",
              "654    Nereida    Magwood  Female  United States   58  16/08/2016  2468\n",
              "504    Nereida    Magwood  Female  United States   58  16/08/2016  2468\n",
              "154    Nereida    Magwood  Female  United States   58  16/08/2016  2468\n",
              "\n",
              "[760 rows x 7 columns]"
            ]
          },
          "metadata": {
            "tags": []
          },
          "execution_count": 5
        }
      ]
    },
    {
      "cell_type": "code",
      "metadata": {
        "colab": {
          "base_uri": "https://localhost:8080/",
          "height": 406
        },
        "id": "JE3xiCVio4I_",
        "outputId": "c36684d1-aa3b-4b9f-f978-5c0dd381d53e"
      },
      "source": [
        "male = df.loc[df['Gender'] == 'Male']\r\n",
        "male"
      ],
      "execution_count": null,
      "outputs": [
        {
          "output_type": "execute_result",
          "data": {
            "text/html": [
              "<div>\n",
              "<style scoped>\n",
              "    .dataframe tbody tr th:only-of-type {\n",
              "        vertical-align: middle;\n",
              "    }\n",
              "\n",
              "    .dataframe tbody tr th {\n",
              "        vertical-align: top;\n",
              "    }\n",
              "\n",
              "    .dataframe thead th {\n",
              "        text-align: right;\n",
              "    }\n",
              "</style>\n",
              "<table border=\"1\" class=\"dataframe\">\n",
              "  <thead>\n",
              "    <tr style=\"text-align: right;\">\n",
              "      <th></th>\n",
              "      <th>First Name</th>\n",
              "      <th>Last Name</th>\n",
              "      <th>Gender</th>\n",
              "      <th>Country</th>\n",
              "      <th>Age</th>\n",
              "      <th>Date</th>\n",
              "      <th>Id</th>\n",
              "    </tr>\n",
              "  </thead>\n",
              "  <tbody>\n",
              "    <tr>\n",
              "      <th>824</th>\n",
              "      <td>Lester</td>\n",
              "      <td>Prothro</td>\n",
              "      <td>Male</td>\n",
              "      <td>France</td>\n",
              "      <td>21</td>\n",
              "      <td>15/10/2017</td>\n",
              "      <td>6574</td>\n",
              "    </tr>\n",
              "    <tr>\n",
              "      <th>24</th>\n",
              "      <td>Lester</td>\n",
              "      <td>Prothro</td>\n",
              "      <td>Male</td>\n",
              "      <td>France</td>\n",
              "      <td>21</td>\n",
              "      <td>15/10/2017</td>\n",
              "      <td>6574</td>\n",
              "    </tr>\n",
              "    <tr>\n",
              "      <th>574</th>\n",
              "      <td>Lester</td>\n",
              "      <td>Prothro</td>\n",
              "      <td>Male</td>\n",
              "      <td>France</td>\n",
              "      <td>21</td>\n",
              "      <td>15/10/2017</td>\n",
              "      <td>6574</td>\n",
              "    </tr>\n",
              "    <tr>\n",
              "      <th>324</th>\n",
              "      <td>Lester</td>\n",
              "      <td>Prothro</td>\n",
              "      <td>Male</td>\n",
              "      <td>France</td>\n",
              "      <td>21</td>\n",
              "      <td>15/10/2017</td>\n",
              "      <td>6574</td>\n",
              "    </tr>\n",
              "    <tr>\n",
              "      <th>124</th>\n",
              "      <td>Lester</td>\n",
              "      <td>Prothro</td>\n",
              "      <td>Male</td>\n",
              "      <td>France</td>\n",
              "      <td>21</td>\n",
              "      <td>15/10/2017</td>\n",
              "      <td>6574</td>\n",
              "    </tr>\n",
              "    <tr>\n",
              "      <th>...</th>\n",
              "      <td>...</td>\n",
              "      <td>...</td>\n",
              "      <td>...</td>\n",
              "      <td>...</td>\n",
              "      <td>...</td>\n",
              "      <td>...</td>\n",
              "      <td>...</td>\n",
              "    </tr>\n",
              "    <tr>\n",
              "      <th>778</th>\n",
              "      <td>Garth</td>\n",
              "      <td>Gangi</td>\n",
              "      <td>Male</td>\n",
              "      <td>United States</td>\n",
              "      <td>41</td>\n",
              "      <td>16/08/2016</td>\n",
              "      <td>3256</td>\n",
              "    </tr>\n",
              "    <tr>\n",
              "      <th>978</th>\n",
              "      <td>Garth</td>\n",
              "      <td>Gangi</td>\n",
              "      <td>Male</td>\n",
              "      <td>United States</td>\n",
              "      <td>41</td>\n",
              "      <td>16/08/2016</td>\n",
              "      <td>3256</td>\n",
              "    </tr>\n",
              "    <tr>\n",
              "      <th>678</th>\n",
              "      <td>Garth</td>\n",
              "      <td>Gangi</td>\n",
              "      <td>Male</td>\n",
              "      <td>United States</td>\n",
              "      <td>41</td>\n",
              "      <td>16/08/2016</td>\n",
              "      <td>3256</td>\n",
              "    </tr>\n",
              "    <tr>\n",
              "      <th>528</th>\n",
              "      <td>Garth</td>\n",
              "      <td>Gangi</td>\n",
              "      <td>Male</td>\n",
              "      <td>United States</td>\n",
              "      <td>41</td>\n",
              "      <td>16/08/2016</td>\n",
              "      <td>3256</td>\n",
              "    </tr>\n",
              "    <tr>\n",
              "      <th>478</th>\n",
              "      <td>Garth</td>\n",
              "      <td>Gangi</td>\n",
              "      <td>Male</td>\n",
              "      <td>United States</td>\n",
              "      <td>41</td>\n",
              "      <td>16/08/2016</td>\n",
              "      <td>3256</td>\n",
              "    </tr>\n",
              "  </tbody>\n",
              "</table>\n",
              "<p>240 rows × 7 columns</p>\n",
              "</div>"
            ],
            "text/plain": [
              "    First Name Last Name Gender        Country  Age        Date    Id\n",
              "824     Lester   Prothro   Male         France   21  15/10/2017  6574\n",
              "24      Lester   Prothro   Male         France   21  15/10/2017  6574\n",
              "574     Lester   Prothro   Male         France   21  15/10/2017  6574\n",
              "324     Lester   Prothro   Male         France   21  15/10/2017  6574\n",
              "124     Lester   Prothro   Male         France   21  15/10/2017  6574\n",
              "..         ...       ...    ...            ...  ...         ...   ...\n",
              "778      Garth     Gangi   Male  United States   41  16/08/2016  3256\n",
              "978      Garth     Gangi   Male  United States   41  16/08/2016  3256\n",
              "678      Garth     Gangi   Male  United States   41  16/08/2016  3256\n",
              "528      Garth     Gangi   Male  United States   41  16/08/2016  3256\n",
              "478      Garth     Gangi   Male  United States   41  16/08/2016  3256\n",
              "\n",
              "[240 rows x 7 columns]"
            ]
          },
          "metadata": {
            "tags": []
          },
          "execution_count": 6
        }
      ]
    },
    {
      "cell_type": "code",
      "metadata": {
        "id": "BbToyDRGpcZh"
      },
      "source": [
        "import matplotlib.pyplot as plt\r\n",
        "import numpy as np\r\n",
        "%matplotlib inline"
      ],
      "execution_count": null,
      "outputs": []
    },
    {
      "cell_type": "code",
      "metadata": {
        "colab": {
          "base_uri": "https://localhost:8080/",
          "height": 350
        },
        "id": "CZI4Ad6L4nnH",
        "outputId": "ba25366d-50e4-415f-edf8-2794362d3e54"
      },
      "source": [
        "male_age = male[['Age']]\r\n",
        "male_age.plot.hist(title='Male Age', grid=True, rwidth=0.8, color='g', figsize=(7,5))\r\n",
        "plt.xlabel(\"Age\")\r\n",
        "plt.show()"
      ],
      "execution_count": null,
      "outputs": [
        {
          "output_type": "display_data",
          "data": {
            "image/png": "[encoded data removed]",
            "text/plain": [
              "<Figure size 504x360 with 1 Axes>"
            ]
          },
          "metadata": {
            "tags": [],
            "needs_background": "light"
          }
        }
      ]
    },
    {
      "cell_type": "code",
      "metadata": {
        "colab": {
          "base_uri": "https://localhost:8080/",
          "height": 350
        },
        "id": "r_DCLQYy-Q0H",
        "outputId": "c334e696-1497-4ac0-9990-3c24988950e5"
      },
      "source": [
        "female_age = female[['Age']]\r\n",
        "female_age.plot.hist(title='Female age', grid=True, bins=10,rwidth=0.8, color='r',figsize=(7,5))\r\n",
        "plt.xlabel(\"Age\")\r\n",
        "plt.show()"
      ],
      "execution_count": null,
      "outputs": [
        {
          "output_type": "display_data",
          "data": {
            "image/png": "[encoded data removed]",
            "text/plain": [
              "<Figure size 504x360 with 1 Axes>"
            ]
          },
          "metadata": {
            "tags": [],
            "needs_background": "light"
          }
        }
      ]
    },
    {
      "cell_type": "markdown",
      "metadata": {
        "id": "5taxu3miSr6l"
      },
      "source": [
        "# Задание 2\n",
        " "
      ]
    },
    {
      "cell_type": "code",
      "metadata": {
        "colab": {
          "base_uri": "https://localhost:8080/",
          "height": 406
        },
        "id": "bufkpwAYPNIP",
        "outputId": "3eb21a52-5880-4272-f1d8-4b351798a992"
      },
      "source": [
        "df = pd.read_csv('https://raw.githubusercontent.com/ddvika/Data-Science-School-2020/main/hw_intermediate/materials/appl_1980_2014.csv')\n",
        "df"
      ],
      "execution_count": 4,
      "outputs": [
        {
          "output_type": "execute_result",
          "data": {
            "text/html": [
              "<div>\n",
              "<style scoped>\n",
              "    .dataframe tbody tr th:only-of-type {\n",
              "        vertical-align: middle;\n",
              "    }\n",
              "\n",
              "    .dataframe tbody tr th {\n",
              "        vertical-align: top;\n",
              "    }\n",
              "\n",
              "    .dataframe thead th {\n",
              "        text-align: right;\n",
              "    }\n",
              "</style>\n",
              "<table border=\"1\" class=\"dataframe\">\n",
              "  <thead>\n",
              "    <tr style=\"text-align: right;\">\n",
              "      <th></th>\n",
              "      <th>Unnamed: 0</th>\n",
              "      <th>Date</th>\n",
              "      <th>Open</th>\n",
              "      <th>High</th>\n",
              "      <th>Low</th>\n",
              "      <th>Close</th>\n",
              "      <th>Volume</th>\n",
              "      <th>Adj Close</th>\n",
              "    </tr>\n",
              "  </thead>\n",
              "  <tbody>\n",
              "    <tr>\n",
              "      <th>0</th>\n",
              "      <td>0</td>\n",
              "      <td>2014-07-08</td>\n",
              "      <td>96.27</td>\n",
              "      <td>96.80</td>\n",
              "      <td>93.92</td>\n",
              "      <td>95.35</td>\n",
              "      <td>65130000</td>\n",
              "      <td>95.35</td>\n",
              "    </tr>\n",
              "    <tr>\n",
              "      <th>1</th>\n",
              "      <td>1</td>\n",
              "      <td>2014-07-07</td>\n",
              "      <td>94.14</td>\n",
              "      <td>95.99</td>\n",
              "      <td>94.10</td>\n",
              "      <td>95.97</td>\n",
              "      <td>56305400</td>\n",
              "      <td>95.97</td>\n",
              "    </tr>\n",
              "    <tr>\n",
              "      <th>2</th>\n",
              "      <td>2</td>\n",
              "      <td>2014-07-03</td>\n",
              "      <td>93.67</td>\n",
              "      <td>94.10</td>\n",
              "      <td>93.20</td>\n",
              "      <td>94.03</td>\n",
              "      <td>22891800</td>\n",
              "      <td>94.03</td>\n",
              "    </tr>\n",
              "    <tr>\n",
              "      <th>3</th>\n",
              "      <td>3</td>\n",
              "      <td>2014-07-02</td>\n",
              "      <td>93.87</td>\n",
              "      <td>94.06</td>\n",
              "      <td>93.09</td>\n",
              "      <td>93.48</td>\n",
              "      <td>28420900</td>\n",
              "      <td>93.48</td>\n",
              "    </tr>\n",
              "    <tr>\n",
              "      <th>4</th>\n",
              "      <td>4</td>\n",
              "      <td>2014-07-01</td>\n",
              "      <td>93.52</td>\n",
              "      <td>94.07</td>\n",
              "      <td>93.13</td>\n",
              "      <td>93.52</td>\n",
              "      <td>38170200</td>\n",
              "      <td>93.52</td>\n",
              "    </tr>\n",
              "    <tr>\n",
              "      <th>...</th>\n",
              "      <td>...</td>\n",
              "      <td>...</td>\n",
              "      <td>...</td>\n",
              "      <td>...</td>\n",
              "      <td>...</td>\n",
              "      <td>...</td>\n",
              "      <td>...</td>\n",
              "      <td>...</td>\n",
              "    </tr>\n",
              "    <tr>\n",
              "      <th>8460</th>\n",
              "      <td>8460</td>\n",
              "      <td>1980-12-18</td>\n",
              "      <td>26.63</td>\n",
              "      <td>26.75</td>\n",
              "      <td>26.63</td>\n",
              "      <td>26.63</td>\n",
              "      <td>18362400</td>\n",
              "      <td>0.41</td>\n",
              "    </tr>\n",
              "    <tr>\n",
              "      <th>8461</th>\n",
              "      <td>8461</td>\n",
              "      <td>1980-12-17</td>\n",
              "      <td>25.87</td>\n",
              "      <td>26.00</td>\n",
              "      <td>25.87</td>\n",
              "      <td>25.87</td>\n",
              "      <td>21610400</td>\n",
              "      <td>0.40</td>\n",
              "    </tr>\n",
              "    <tr>\n",
              "      <th>8462</th>\n",
              "      <td>8462</td>\n",
              "      <td>1980-12-16</td>\n",
              "      <td>25.37</td>\n",
              "      <td>25.37</td>\n",
              "      <td>25.25</td>\n",
              "      <td>25.25</td>\n",
              "      <td>26432000</td>\n",
              "      <td>0.39</td>\n",
              "    </tr>\n",
              "    <tr>\n",
              "      <th>8463</th>\n",
              "      <td>8463</td>\n",
              "      <td>1980-12-15</td>\n",
              "      <td>27.38</td>\n",
              "      <td>27.38</td>\n",
              "      <td>27.25</td>\n",
              "      <td>27.25</td>\n",
              "      <td>43971200</td>\n",
              "      <td>0.42</td>\n",
              "    </tr>\n",
              "    <tr>\n",
              "      <th>8464</th>\n",
              "      <td>8464</td>\n",
              "      <td>1980-12-12</td>\n",
              "      <td>28.75</td>\n",
              "      <td>28.87</td>\n",
              "      <td>28.75</td>\n",
              "      <td>28.75</td>\n",
              "      <td>117258400</td>\n",
              "      <td>0.45</td>\n",
              "    </tr>\n",
              "  </tbody>\n",
              "</table>\n",
              "<p>8465 rows × 8 columns</p>\n",
              "</div>"
            ],
            "text/plain": [
              "      Unnamed: 0        Date   Open   High    Low  Close     Volume  Adj Close\n",
              "0              0  2014-07-08  96.27  96.80  93.92  95.35   65130000      95.35\n",
              "1              1  2014-07-07  94.14  95.99  94.10  95.97   56305400      95.97\n",
              "2              2  2014-07-03  93.67  94.10  93.20  94.03   22891800      94.03\n",
              "3              3  2014-07-02  93.87  94.06  93.09  93.48   28420900      93.48\n",
              "4              4  2014-07-01  93.52  94.07  93.13  93.52   38170200      93.52\n",
              "...          ...         ...    ...    ...    ...    ...        ...        ...\n",
              "8460        8460  1980-12-18  26.63  26.75  26.63  26.63   18362400       0.41\n",
              "8461        8461  1980-12-17  25.87  26.00  25.87  25.87   21610400       0.40\n",
              "8462        8462  1980-12-16  25.37  25.37  25.25  25.25   26432000       0.39\n",
              "8463        8463  1980-12-15  27.38  27.38  27.25  27.25   43971200       0.42\n",
              "8464        8464  1980-12-12  28.75  28.87  28.75  28.75  117258400       0.45\n",
              "\n",
              "[8465 rows x 8 columns]"
            ]
          },
          "metadata": {
            "tags": []
          },
          "execution_count": 4
        }
      ]
    },
    {
      "cell_type": "markdown",
      "metadata": {
        "id": "ltZV5S5TUXUC"
      },
      "source": [
        "**0.5 point**\n",
        "- убрать ненужный столбец Unnamed\n",
        "\n",
        "**0.5 point**\n",
        "- Проверьте тип данных в столбцах\n",
        "\n",
        "**0.5 point**\n",
        "- Преобразуйте столбец Date в тип datetime\n",
        "\n",
        "**0.5 point**\n",
        "- Установите дату в качестве индекса\n",
        "\n",
        "**0.5 point**\n",
        "- Есть ли повторяющиеся даты?\n",
        "\n",
        "**0.5 point**\n",
        "- Получите последний рабочий день каждого месяца\n",
        "\n",
        "**0.5 point**\n",
        "- Какая разница в днях между первым днем и самым давним?\n",
        "\n",
        "**0.5 point**\n",
        "- Сколько месяцев у нас есть в данных?\n",
        "\n",
        "**0.5 point**\n",
        "-  Постройте значение «Adj Close». Установите размер рисунка 13,5 х 9 дюймов.\n",
        "\n",
        "**Доп. задание (макс балл 1.5)**\n",
        "- Придумайте собственные вопросы и ответьте на них. Также можете нарисовать какие-то интересные графики.\n"
      ]
    },
    {
      "cell_type": "code",
      "metadata": {
        "id": "ZdTeTiF0PNQO",
        "colab": {
          "base_uri": "https://localhost:8080/",
          "height": 436
        },
        "outputId": "db2ebe49-4205-411d-a75e-038dcbe8eb75"
      },
      "source": [
        "df = df.drop(['Unnamed: 0'], axis=1)\r\n",
        "df"
      ],
      "execution_count": 8,
      "outputs": [
        {
          "output_type": "execute_result",
          "data": {
            "text/html": [
              "<div>\n",
              "<style scoped>\n",
              "    .dataframe tbody tr th:only-of-type {\n",
              "        vertical-align: middle;\n",
              "    }\n",
              "\n",
              "    .dataframe tbody tr th {\n",
              "        vertical-align: top;\n",
              "    }\n",
              "\n",
              "    .dataframe thead th {\n",
              "        text-align: right;\n",
              "    }\n",
              "</style>\n",
              "<table border=\"1\" class=\"dataframe\">\n",
              "  <thead>\n",
              "    <tr style=\"text-align: right;\">\n",
              "      <th></th>\n",
              "      <th>Open</th>\n",
              "      <th>High</th>\n",
              "      <th>Low</th>\n",
              "      <th>Close</th>\n",
              "      <th>Volume</th>\n",
              "      <th>Adj Close</th>\n",
              "    </tr>\n",
              "    <tr>\n",
              "      <th>Date</th>\n",
              "      <th></th>\n",
              "      <th></th>\n",
              "      <th></th>\n",
              "      <th></th>\n",
              "      <th></th>\n",
              "      <th></th>\n",
              "    </tr>\n",
              "  </thead>\n",
              "  <tbody>\n",
              "    <tr>\n",
              "      <th>1980-12-12</th>\n",
              "      <td>28.75</td>\n",
              "      <td>28.87</td>\n",
              "      <td>28.75</td>\n",
              "      <td>28.75</td>\n",
              "      <td>117258400</td>\n",
              "      <td>0.45</td>\n",
              "    </tr>\n",
              "    <tr>\n",
              "      <th>1980-12-15</th>\n",
              "      <td>27.38</td>\n",
              "      <td>27.38</td>\n",
              "      <td>27.25</td>\n",
              "      <td>27.25</td>\n",
              "      <td>43971200</td>\n",
              "      <td>0.42</td>\n",
              "    </tr>\n",
              "    <tr>\n",
              "      <th>1980-12-16</th>\n",
              "      <td>25.37</td>\n",
              "      <td>25.37</td>\n",
              "      <td>25.25</td>\n",
              "      <td>25.25</td>\n",
              "      <td>26432000</td>\n",
              "      <td>0.39</td>\n",
              "    </tr>\n",
              "    <tr>\n",
              "      <th>1980-12-17</th>\n",
              "      <td>25.87</td>\n",
              "      <td>26.00</td>\n",
              "      <td>25.87</td>\n",
              "      <td>25.87</td>\n",
              "      <td>21610400</td>\n",
              "      <td>0.40</td>\n",
              "    </tr>\n",
              "    <tr>\n",
              "      <th>1980-12-18</th>\n",
              "      <td>26.63</td>\n",
              "      <td>26.75</td>\n",
              "      <td>26.63</td>\n",
              "      <td>26.63</td>\n",
              "      <td>18362400</td>\n",
              "      <td>0.41</td>\n",
              "    </tr>\n",
              "    <tr>\n",
              "      <th>...</th>\n",
              "      <td>...</td>\n",
              "      <td>...</td>\n",
              "      <td>...</td>\n",
              "      <td>...</td>\n",
              "      <td>...</td>\n",
              "      <td>...</td>\n",
              "    </tr>\n",
              "    <tr>\n",
              "      <th>2014-07-01</th>\n",
              "      <td>93.52</td>\n",
              "      <td>94.07</td>\n",
              "      <td>93.13</td>\n",
              "      <td>93.52</td>\n",
              "      <td>38170200</td>\n",
              "      <td>93.52</td>\n",
              "    </tr>\n",
              "    <tr>\n",
              "      <th>2014-07-02</th>\n",
              "      <td>93.87</td>\n",
              "      <td>94.06</td>\n",
              "      <td>93.09</td>\n",
              "      <td>93.48</td>\n",
              "      <td>28420900</td>\n",
              "      <td>93.48</td>\n",
              "    </tr>\n",
              "    <tr>\n",
              "      <th>2014-07-03</th>\n",
              "      <td>93.67</td>\n",
              "      <td>94.10</td>\n",
              "      <td>93.20</td>\n",
              "      <td>94.03</td>\n",
              "      <td>22891800</td>\n",
              "      <td>94.03</td>\n",
              "    </tr>\n",
              "    <tr>\n",
              "      <th>2014-07-07</th>\n",
              "      <td>94.14</td>\n",
              "      <td>95.99</td>\n",
              "      <td>94.10</td>\n",
              "      <td>95.97</td>\n",
              "      <td>56305400</td>\n",
              "      <td>95.97</td>\n",
              "    </tr>\n",
              "    <tr>\n",
              "      <th>2014-07-08</th>\n",
              "      <td>96.27</td>\n",
              "      <td>96.80</td>\n",
              "      <td>93.92</td>\n",
              "      <td>95.35</td>\n",
              "      <td>65130000</td>\n",
              "      <td>95.35</td>\n",
              "    </tr>\n",
              "  </tbody>\n",
              "</table>\n",
              "<p>8465 rows × 6 columns</p>\n",
              "</div>"
            ],
            "text/plain": [
              "             Open   High    Low  Close     Volume  Adj Close\n",
              "Date                                                        \n",
              "1980-12-12  28.75  28.87  28.75  28.75  117258400       0.45\n",
              "1980-12-15  27.38  27.38  27.25  27.25   43971200       0.42\n",
              "1980-12-16  25.37  25.37  25.25  25.25   26432000       0.39\n",
              "1980-12-17  25.87  26.00  25.87  25.87   21610400       0.40\n",
              "1980-12-18  26.63  26.75  26.63  26.63   18362400       0.41\n",
              "...           ...    ...    ...    ...        ...        ...\n",
              "2014-07-01  93.52  94.07  93.13  93.52   38170200      93.52\n",
              "2014-07-02  93.87  94.06  93.09  93.48   28420900      93.48\n",
              "2014-07-03  93.67  94.10  93.20  94.03   22891800      94.03\n",
              "2014-07-07  94.14  95.99  94.10  95.97   56305400      95.97\n",
              "2014-07-08  96.27  96.80  93.92  95.35   65130000      95.35\n",
              "\n",
              "[8465 rows x 6 columns]"
            ]
          },
          "metadata": {
            "tags": []
          },
          "execution_count": 8
        }
      ]
    },
    {
      "cell_type": "code",
      "metadata": {
        "colab": {
          "base_uri": "https://localhost:8080/"
        },
        "id": "c9ep-Tg2NgYB",
        "outputId": "7ad9500b-6fba-4496-e013-d54815383588"
      },
      "source": [
        "df.dtypes"
      ],
      "execution_count": null,
      "outputs": [
        {
          "output_type": "execute_result",
          "data": {
            "text/plain": [
              "Open         float64\n",
              "High         float64\n",
              "Low          float64\n",
              "Close        float64\n",
              "Volume         int64\n",
              "Adj Close    float64\n",
              "dtype: object"
            ]
          },
          "metadata": {
            "tags": []
          },
          "execution_count": 117
        }
      ]
    },
    {
      "cell_type": "code",
      "metadata": {
        "colab": {
          "base_uri": "https://localhost:8080/"
        },
        "id": "BDCqqAHoN19i",
        "outputId": "621fd4e2-643c-4e67-beb9-6d3f8b11c0e2"
      },
      "source": [
        "df['Date'] = pd.to_datetime(df['Date'])\r\n",
        "df.dtypes"
      ],
      "execution_count": 5,
      "outputs": [
        {
          "output_type": "execute_result",
          "data": {
            "text/plain": [
              "Unnamed: 0             int64\n",
              "Date          datetime64[ns]\n",
              "Open                 float64\n",
              "High                 float64\n",
              "Low                  float64\n",
              "Close                float64\n",
              "Volume                 int64\n",
              "Adj Close            float64\n",
              "dtype: object"
            ]
          },
          "metadata": {
            "tags": []
          },
          "execution_count": 5
        }
      ]
    },
    {
      "cell_type": "code",
      "metadata": {
        "id": "XFHIjtYGPNTA"
      },
      "source": [
        "df = df.set_index(['Date'])"
      ],
      "execution_count": 6,
      "outputs": []
    },
    {
      "cell_type": "code",
      "metadata": {
        "colab": {
          "base_uri": "https://localhost:8080/",
          "height": 436
        },
        "id": "0rqJyd8yRBqY",
        "outputId": "43829ae7-95d6-4033-ec7b-334e9e4866b7"
      },
      "source": [
        "df = df.sort_index()\r\n",
        "df"
      ],
      "execution_count": 9,
      "outputs": [
        {
          "output_type": "execute_result",
          "data": {
            "text/html": [
              "<div>\n",
              "<style scoped>\n",
              "    .dataframe tbody tr th:only-of-type {\n",
              "        vertical-align: middle;\n",
              "    }\n",
              "\n",
              "    .dataframe tbody tr th {\n",
              "        vertical-align: top;\n",
              "    }\n",
              "\n",
              "    .dataframe thead th {\n",
              "        text-align: right;\n",
              "    }\n",
              "</style>\n",
              "<table border=\"1\" class=\"dataframe\">\n",
              "  <thead>\n",
              "    <tr style=\"text-align: right;\">\n",
              "      <th></th>\n",
              "      <th>Open</th>\n",
              "      <th>High</th>\n",
              "      <th>Low</th>\n",
              "      <th>Close</th>\n",
              "      <th>Volume</th>\n",
              "      <th>Adj Close</th>\n",
              "    </tr>\n",
              "    <tr>\n",
              "      <th>Date</th>\n",
              "      <th></th>\n",
              "      <th></th>\n",
              "      <th></th>\n",
              "      <th></th>\n",
              "      <th></th>\n",
              "      <th></th>\n",
              "    </tr>\n",
              "  </thead>\n",
              "  <tbody>\n",
              "    <tr>\n",
              "      <th>1980-12-12</th>\n",
              "      <td>28.75</td>\n",
              "      <td>28.87</td>\n",
              "      <td>28.75</td>\n",
              "      <td>28.75</td>\n",
              "      <td>117258400</td>\n",
              "      <td>0.45</td>\n",
              "    </tr>\n",
              "    <tr>\n",
              "      <th>1980-12-15</th>\n",
              "      <td>27.38</td>\n",
              "      <td>27.38</td>\n",
              "      <td>27.25</td>\n",
              "      <td>27.25</td>\n",
              "      <td>43971200</td>\n",
              "      <td>0.42</td>\n",
              "    </tr>\n",
              "    <tr>\n",
              "      <th>1980-12-16</th>\n",
              "      <td>25.37</td>\n",
              "      <td>25.37</td>\n",
              "      <td>25.25</td>\n",
              "      <td>25.25</td>\n",
              "      <td>26432000</td>\n",
              "      <td>0.39</td>\n",
              "    </tr>\n",
              "    <tr>\n",
              "      <th>1980-12-17</th>\n",
              "      <td>25.87</td>\n",
              "      <td>26.00</td>\n",
              "      <td>25.87</td>\n",
              "      <td>25.87</td>\n",
              "      <td>21610400</td>\n",
              "      <td>0.40</td>\n",
              "    </tr>\n",
              "    <tr>\n",
              "      <th>1980-12-18</th>\n",
              "      <td>26.63</td>\n",
              "      <td>26.75</td>\n",
              "      <td>26.63</td>\n",
              "      <td>26.63</td>\n",
              "      <td>18362400</td>\n",
              "      <td>0.41</td>\n",
              "    </tr>\n",
              "    <tr>\n",
              "      <th>...</th>\n",
              "      <td>...</td>\n",
              "      <td>...</td>\n",
              "      <td>...</td>\n",
              "      <td>...</td>\n",
              "      <td>...</td>\n",
              "      <td>...</td>\n",
              "    </tr>\n",
              "    <tr>\n",
              "      <th>2014-07-01</th>\n",
              "      <td>93.52</td>\n",
              "      <td>94.07</td>\n",
              "      <td>93.13</td>\n",
              "      <td>93.52</td>\n",
              "      <td>38170200</td>\n",
              "      <td>93.52</td>\n",
              "    </tr>\n",
              "    <tr>\n",
              "      <th>2014-07-02</th>\n",
              "      <td>93.87</td>\n",
              "      <td>94.06</td>\n",
              "      <td>93.09</td>\n",
              "      <td>93.48</td>\n",
              "      <td>28420900</td>\n",
              "      <td>93.48</td>\n",
              "    </tr>\n",
              "    <tr>\n",
              "      <th>2014-07-03</th>\n",
              "      <td>93.67</td>\n",
              "      <td>94.10</td>\n",
              "      <td>93.20</td>\n",
              "      <td>94.03</td>\n",
              "      <td>22891800</td>\n",
              "      <td>94.03</td>\n",
              "    </tr>\n",
              "    <tr>\n",
              "      <th>2014-07-07</th>\n",
              "      <td>94.14</td>\n",
              "      <td>95.99</td>\n",
              "      <td>94.10</td>\n",
              "      <td>95.97</td>\n",
              "      <td>56305400</td>\n",
              "      <td>95.97</td>\n",
              "    </tr>\n",
              "    <tr>\n",
              "      <th>2014-07-08</th>\n",
              "      <td>96.27</td>\n",
              "      <td>96.80</td>\n",
              "      <td>93.92</td>\n",
              "      <td>95.35</td>\n",
              "      <td>65130000</td>\n",
              "      <td>95.35</td>\n",
              "    </tr>\n",
              "  </tbody>\n",
              "</table>\n",
              "<p>8465 rows × 6 columns</p>\n",
              "</div>"
            ],
            "text/plain": [
              "             Open   High    Low  Close     Volume  Adj Close\n",
              "Date                                                        \n",
              "1980-12-12  28.75  28.87  28.75  28.75  117258400       0.45\n",
              "1980-12-15  27.38  27.38  27.25  27.25   43971200       0.42\n",
              "1980-12-16  25.37  25.37  25.25  25.25   26432000       0.39\n",
              "1980-12-17  25.87  26.00  25.87  25.87   21610400       0.40\n",
              "1980-12-18  26.63  26.75  26.63  26.63   18362400       0.41\n",
              "...           ...    ...    ...    ...        ...        ...\n",
              "2014-07-01  93.52  94.07  93.13  93.52   38170200      93.52\n",
              "2014-07-02  93.87  94.06  93.09  93.48   28420900      93.48\n",
              "2014-07-03  93.67  94.10  93.20  94.03   22891800      94.03\n",
              "2014-07-07  94.14  95.99  94.10  95.97   56305400      95.97\n",
              "2014-07-08  96.27  96.80  93.92  95.35   65130000      95.35\n",
              "\n",
              "[8465 rows x 6 columns]"
            ]
          },
          "metadata": {
            "tags": []
          },
          "execution_count": 9
        }
      ]
    },
    {
      "cell_type": "code",
      "metadata": {
        "colab": {
          "base_uri": "https://localhost:8080/"
        },
        "id": "i_IZSXknRdHR",
        "outputId": "fb156451-c579-44c4-e6b1-574df216e843"
      },
      "source": [
        "if len(df.index.unique()) < len(df.index):\r\n",
        "  print(\"There is repeating dates\")\r\n",
        "else:\r\n",
        "  print(\"There's no repeating dates\")"
      ],
      "execution_count": 10,
      "outputs": [
        {
          "output_type": "stream",
          "text": [
            "There's no repeating dates\n"
          ],
          "name": "stdout"
        }
      ]
    },
    {
      "cell_type": "code",
      "metadata": {
        "colab": {
          "base_uri": "https://localhost:8080/"
        },
        "id": "TDvUPCZnke9x",
        "outputId": "b9604fe0-e8f1-472a-cab6-05941e81f555"
      },
      "source": [
        "#FASTER WAY:\r\n",
        "check = df.index.duplicated().any()\r\n",
        "if check:\r\n",
        "  print(\"There is repeating dates\")\r\n",
        "else:\r\n",
        "  print(\"There's no repeating dates\")"
      ],
      "execution_count": 11,
      "outputs": [
        {
          "output_type": "stream",
          "text": [
            "There's no repeating dates\n"
          ],
          "name": "stdout"
        }
      ]
    },
    {
      "cell_type": "markdown",
      "metadata": {
        "id": "4xSZ_mHDdqdn"
      },
      "source": [
        "---\r\n",
        "\r\n",
        "**ПОВТОРЯЮЩИХСЯ ДАТ НЕТ**\r\n",
        "\r\n",
        "---\r\n",
        "\r\n"
      ]
    },
    {
      "cell_type": "code",
      "metadata": {
        "colab": {
          "base_uri": "https://localhost:8080/",
          "height": 436
        },
        "id": "whCNr2ej_mo-",
        "outputId": "96fda6bc-41fb-4382-ae11-5943c879b20a"
      },
      "source": [
        "df_working_days = df.reset_index().groupby(df.index.to_period('M')).last().set_index('Date')\r\n",
        "df_working_days"
      ],
      "execution_count": 12,
      "outputs": [
        {
          "output_type": "execute_result",
          "data": {
            "text/html": [
              "<div>\n",
              "<style scoped>\n",
              "    .dataframe tbody tr th:only-of-type {\n",
              "        vertical-align: middle;\n",
              "    }\n",
              "\n",
              "    .dataframe tbody tr th {\n",
              "        vertical-align: top;\n",
              "    }\n",
              "\n",
              "    .dataframe thead th {\n",
              "        text-align: right;\n",
              "    }\n",
              "</style>\n",
              "<table border=\"1\" class=\"dataframe\">\n",
              "  <thead>\n",
              "    <tr style=\"text-align: right;\">\n",
              "      <th></th>\n",
              "      <th>Open</th>\n",
              "      <th>High</th>\n",
              "      <th>Low</th>\n",
              "      <th>Close</th>\n",
              "      <th>Volume</th>\n",
              "      <th>Adj Close</th>\n",
              "    </tr>\n",
              "    <tr>\n",
              "      <th>Date</th>\n",
              "      <th></th>\n",
              "      <th></th>\n",
              "      <th></th>\n",
              "      <th></th>\n",
              "      <th></th>\n",
              "      <th></th>\n",
              "    </tr>\n",
              "  </thead>\n",
              "  <tbody>\n",
              "    <tr>\n",
              "      <th>1980-12-31</th>\n",
              "      <td>34.25</td>\n",
              "      <td>34.25</td>\n",
              "      <td>34.13</td>\n",
              "      <td>34.13</td>\n",
              "      <td>8937600</td>\n",
              "      <td>0.53</td>\n",
              "    </tr>\n",
              "    <tr>\n",
              "      <th>1981-01-30</th>\n",
              "      <td>28.50</td>\n",
              "      <td>28.50</td>\n",
              "      <td>28.25</td>\n",
              "      <td>28.25</td>\n",
              "      <td>11547200</td>\n",
              "      <td>0.44</td>\n",
              "    </tr>\n",
              "    <tr>\n",
              "      <th>1981-02-27</th>\n",
              "      <td>26.50</td>\n",
              "      <td>26.75</td>\n",
              "      <td>26.50</td>\n",
              "      <td>26.50</td>\n",
              "      <td>3690400</td>\n",
              "      <td>0.41</td>\n",
              "    </tr>\n",
              "    <tr>\n",
              "      <th>1981-03-31</th>\n",
              "      <td>24.75</td>\n",
              "      <td>24.75</td>\n",
              "      <td>24.50</td>\n",
              "      <td>24.50</td>\n",
              "      <td>3998400</td>\n",
              "      <td>0.38</td>\n",
              "    </tr>\n",
              "    <tr>\n",
              "      <th>1981-04-30</th>\n",
              "      <td>28.38</td>\n",
              "      <td>28.62</td>\n",
              "      <td>28.38</td>\n",
              "      <td>28.38</td>\n",
              "      <td>3152800</td>\n",
              "      <td>0.44</td>\n",
              "    </tr>\n",
              "    <tr>\n",
              "      <th>...</th>\n",
              "      <td>...</td>\n",
              "      <td>...</td>\n",
              "      <td>...</td>\n",
              "      <td>...</td>\n",
              "      <td>...</td>\n",
              "      <td>...</td>\n",
              "    </tr>\n",
              "    <tr>\n",
              "      <th>2014-03-31</th>\n",
              "      <td>539.23</td>\n",
              "      <td>540.81</td>\n",
              "      <td>535.93</td>\n",
              "      <td>536.74</td>\n",
              "      <td>42167300</td>\n",
              "      <td>76.25</td>\n",
              "    </tr>\n",
              "    <tr>\n",
              "      <th>2014-04-30</th>\n",
              "      <td>592.64</td>\n",
              "      <td>599.43</td>\n",
              "      <td>589.80</td>\n",
              "      <td>590.09</td>\n",
              "      <td>114160200</td>\n",
              "      <td>83.83</td>\n",
              "    </tr>\n",
              "    <tr>\n",
              "      <th>2014-05-30</th>\n",
              "      <td>637.98</td>\n",
              "      <td>644.17</td>\n",
              "      <td>628.90</td>\n",
              "      <td>633.00</td>\n",
              "      <td>141005200</td>\n",
              "      <td>90.43</td>\n",
              "    </tr>\n",
              "    <tr>\n",
              "      <th>2014-06-30</th>\n",
              "      <td>92.10</td>\n",
              "      <td>93.73</td>\n",
              "      <td>92.09</td>\n",
              "      <td>92.93</td>\n",
              "      <td>49482300</td>\n",
              "      <td>92.93</td>\n",
              "    </tr>\n",
              "    <tr>\n",
              "      <th>2014-07-08</th>\n",
              "      <td>96.27</td>\n",
              "      <td>96.80</td>\n",
              "      <td>93.92</td>\n",
              "      <td>95.35</td>\n",
              "      <td>65130000</td>\n",
              "      <td>95.35</td>\n",
              "    </tr>\n",
              "  </tbody>\n",
              "</table>\n",
              "<p>404 rows × 6 columns</p>\n",
              "</div>"
            ],
            "text/plain": [
              "              Open    High     Low   Close     Volume  Adj Close\n",
              "Date                                                            \n",
              "1980-12-31   34.25   34.25   34.13   34.13    8937600       0.53\n",
              "1981-01-30   28.50   28.50   28.25   28.25   11547200       0.44\n",
              "1981-02-27   26.50   26.75   26.50   26.50    3690400       0.41\n",
              "1981-03-31   24.75   24.75   24.50   24.50    3998400       0.38\n",
              "1981-04-30   28.38   28.62   28.38   28.38    3152800       0.44\n",
              "...            ...     ...     ...     ...        ...        ...\n",
              "2014-03-31  539.23  540.81  535.93  536.74   42167300      76.25\n",
              "2014-04-30  592.64  599.43  589.80  590.09  114160200      83.83\n",
              "2014-05-30  637.98  644.17  628.90  633.00  141005200      90.43\n",
              "2014-06-30   92.10   93.73   92.09   92.93   49482300      92.93\n",
              "2014-07-08   96.27   96.80   93.92   95.35   65130000      95.35\n",
              "\n",
              "[404 rows x 6 columns]"
            ]
          },
          "metadata": {
            "tags": []
          },
          "execution_count": 12
        }
      ]
    },
    {
      "cell_type": "code",
      "metadata": {
        "colab": {
          "base_uri": "https://localhost:8080/",
          "height": 317
        },
        "id": "fLoS09OMBqsF",
        "outputId": "4cedceb0-1591-4386-949a-1385173e52d8"
      },
      "source": [
        "df_working_days.iloc[[26, 57, 121, 256, 289, 351, 380, 400]]\r\n",
        "#check"
      ],
      "execution_count": 13,
      "outputs": [
        {
          "output_type": "execute_result",
          "data": {
            "text/html": [
              "<div>\n",
              "<style scoped>\n",
              "    .dataframe tbody tr th:only-of-type {\n",
              "        vertical-align: middle;\n",
              "    }\n",
              "\n",
              "    .dataframe tbody tr th {\n",
              "        vertical-align: top;\n",
              "    }\n",
              "\n",
              "    .dataframe thead th {\n",
              "        text-align: right;\n",
              "    }\n",
              "</style>\n",
              "<table border=\"1\" class=\"dataframe\">\n",
              "  <thead>\n",
              "    <tr style=\"text-align: right;\">\n",
              "      <th></th>\n",
              "      <th>Open</th>\n",
              "      <th>High</th>\n",
              "      <th>Low</th>\n",
              "      <th>Close</th>\n",
              "      <th>Volume</th>\n",
              "      <th>Adj Close</th>\n",
              "    </tr>\n",
              "    <tr>\n",
              "      <th>Date</th>\n",
              "      <th></th>\n",
              "      <th></th>\n",
              "      <th></th>\n",
              "      <th></th>\n",
              "      <th></th>\n",
              "      <th></th>\n",
              "    </tr>\n",
              "  </thead>\n",
              "  <tbody>\n",
              "    <tr>\n",
              "      <th>1983-02-28</th>\n",
              "      <td>46.75</td>\n",
              "      <td>46.87</td>\n",
              "      <td>45.50</td>\n",
              "      <td>45.62</td>\n",
              "      <td>33073600</td>\n",
              "      <td>0.71</td>\n",
              "    </tr>\n",
              "    <tr>\n",
              "      <th>1985-09-30</th>\n",
              "      <td>15.87</td>\n",
              "      <td>16.00</td>\n",
              "      <td>15.75</td>\n",
              "      <td>15.75</td>\n",
              "      <td>9161600</td>\n",
              "      <td>0.25</td>\n",
              "    </tr>\n",
              "    <tr>\n",
              "      <th>1991-01-31</th>\n",
              "      <td>55.50</td>\n",
              "      <td>56.00</td>\n",
              "      <td>54.75</td>\n",
              "      <td>55.50</td>\n",
              "      <td>60648000</td>\n",
              "      <td>1.79</td>\n",
              "    </tr>\n",
              "    <tr>\n",
              "      <th>2002-04-30</th>\n",
              "      <td>23.89</td>\n",
              "      <td>24.38</td>\n",
              "      <td>23.75</td>\n",
              "      <td>24.27</td>\n",
              "      <td>70240800</td>\n",
              "      <td>1.66</td>\n",
              "    </tr>\n",
              "    <tr>\n",
              "      <th>2005-01-31</th>\n",
              "      <td>74.58</td>\n",
              "      <td>77.89</td>\n",
              "      <td>74.51</td>\n",
              "      <td>76.90</td>\n",
              "      <td>420274400</td>\n",
              "      <td>5.25</td>\n",
              "    </tr>\n",
              "    <tr>\n",
              "      <th>2010-03-31</th>\n",
              "      <td>235.49</td>\n",
              "      <td>236.61</td>\n",
              "      <td>234.46</td>\n",
              "      <td>235.00</td>\n",
              "      <td>107664900</td>\n",
              "      <td>32.09</td>\n",
              "    </tr>\n",
              "    <tr>\n",
              "      <th>2012-08-31</th>\n",
              "      <td>667.25</td>\n",
              "      <td>668.60</td>\n",
              "      <td>657.25</td>\n",
              "      <td>665.24</td>\n",
              "      <td>84580300</td>\n",
              "      <td>91.23</td>\n",
              "    </tr>\n",
              "    <tr>\n",
              "      <th>2014-04-30</th>\n",
              "      <td>592.64</td>\n",
              "      <td>599.43</td>\n",
              "      <td>589.80</td>\n",
              "      <td>590.09</td>\n",
              "      <td>114160200</td>\n",
              "      <td>83.83</td>\n",
              "    </tr>\n",
              "  </tbody>\n",
              "</table>\n",
              "</div>"
            ],
            "text/plain": [
              "              Open    High     Low   Close     Volume  Adj Close\n",
              "Date                                                            \n",
              "1983-02-28   46.75   46.87   45.50   45.62   33073600       0.71\n",
              "1985-09-30   15.87   16.00   15.75   15.75    9161600       0.25\n",
              "1991-01-31   55.50   56.00   54.75   55.50   60648000       1.79\n",
              "2002-04-30   23.89   24.38   23.75   24.27   70240800       1.66\n",
              "2005-01-31   74.58   77.89   74.51   76.90  420274400       5.25\n",
              "2010-03-31  235.49  236.61  234.46  235.00  107664900      32.09\n",
              "2012-08-31  667.25  668.60  657.25  665.24   84580300      91.23\n",
              "2014-04-30  592.64  599.43  589.80  590.09  114160200      83.83"
            ]
          },
          "metadata": {
            "tags": []
          },
          "execution_count": 13
        }
      ]
    },
    {
      "cell_type": "code",
      "metadata": {
        "colab": {
          "base_uri": "https://localhost:8080/"
        },
        "id": "7IUswW13ONGV",
        "outputId": "e061f8bd-c8f8-45c4-ec33-e5287ab1d077"
      },
      "source": [
        "import datetime as dt\r\n",
        "import numpy as np\r\n",
        "start = df.index[0]\r\n",
        "end = df.index[-1]\r\n",
        "#1st way:\r\n",
        "res_days = int((end - start)/np.timedelta64(1, 'D'))\r\n",
        "res_days\r\n",
        "#2nd way:\r\n",
        "# res_days = (end - start).days\r\n",
        "# res_days\r\n",
        "print(f'Разница между первым и последним днем - {res_days}')"
      ],
      "execution_count": 29,
      "outputs": [
        {
          "output_type": "stream",
          "text": [
            "Разница между первым и последним днем - 12261\n"
          ],
          "name": "stdout"
        }
      ]
    },
    {
      "cell_type": "code",
      "metadata": {
        "colab": {
          "base_uri": "https://localhost:8080/"
        },
        "id": "jgE1DWv1XDul",
        "outputId": "e8c639a0-e872-42c0-e60b-20cd6d708df6"
      },
      "source": [
        "res_months = int((end - start)/np.timedelta64(1, 'M'))\r\n",
        "print(f'Всего полных месяцев - {res_months} и несколько дней')"
      ],
      "execution_count": 30,
      "outputs": [
        {
          "output_type": "stream",
          "text": [
            "Всего полных месяцев - 402 и несколько дней\n"
          ],
          "name": "stdout"
        }
      ]
    },
    {
      "cell_type": "code",
      "metadata": {
        "colab": {
          "base_uri": "https://localhost:8080/",
          "height": 514
        },
        "id": "86F-3PWTcg7g",
        "outputId": "72e26e1b-1c23-45fa-f430-cdb2c588dbf8"
      },
      "source": [
        "import matplotlib.pyplot as plt\r\n",
        "adj = df[['Adj Close']]\r\n",
        "adj.plot(grid=True, figsize=(13.5,9))\r\n",
        "plt.xlabel('Year')\r\n",
        "plt.ylabel('Value')\r\n",
        "plt.show()"
      ],
      "execution_count": 31,
      "outputs": [
        {
          "output_type": "display_data",
          "data": {
            "image/png": "[encoded data removed]",
            "text/plain": [
              "<Figure size 972x648 with 1 Axes>"
            ]
          },
          "metadata": {
            "tags": [],
            "needs_background": "light"
          }
        }
      ]
    },
    {
      "cell_type": "markdown",
      "metadata": {
        "id": "XhK3nyn2J09u"
      },
      "source": [
        "1. Создайте новый датафрейм, добавив в индекс к дате столбец Volume (установите индекс из двух столбцов)."
      ]
    },
    {
      "cell_type": "code",
      "metadata": {
        "colab": {
          "base_uri": "https://localhost:8080/",
          "height": 227
        },
        "id": "E0l5Vx9QKN_f",
        "outputId": "f4491414-0d17-49bd-91fd-9960b0afe4be"
      },
      "source": [
        "#Решение\r\n",
        "df_reset = df.reset_index()\r\n",
        "df_multiind = df_reset.set_index(['Date', 'Volume'])\r\n",
        "df_multiind.head()"
      ],
      "execution_count": 32,
      "outputs": [
        {
          "output_type": "execute_result",
          "data": {
            "text/html": [
              "<div>\n",
              "<style scoped>\n",
              "    .dataframe tbody tr th:only-of-type {\n",
              "        vertical-align: middle;\n",
              "    }\n",
              "\n",
              "    .dataframe tbody tr th {\n",
              "        vertical-align: top;\n",
              "    }\n",
              "\n",
              "    .dataframe thead th {\n",
              "        text-align: right;\n",
              "    }\n",
              "</style>\n",
              "<table border=\"1\" class=\"dataframe\">\n",
              "  <thead>\n",
              "    <tr style=\"text-align: right;\">\n",
              "      <th></th>\n",
              "      <th></th>\n",
              "      <th>Open</th>\n",
              "      <th>High</th>\n",
              "      <th>Low</th>\n",
              "      <th>Close</th>\n",
              "      <th>Adj Close</th>\n",
              "    </tr>\n",
              "    <tr>\n",
              "      <th>Date</th>\n",
              "      <th>Volume</th>\n",
              "      <th></th>\n",
              "      <th></th>\n",
              "      <th></th>\n",
              "      <th></th>\n",
              "      <th></th>\n",
              "    </tr>\n",
              "  </thead>\n",
              "  <tbody>\n",
              "    <tr>\n",
              "      <th>1980-12-12</th>\n",
              "      <th>117258400</th>\n",
              "      <td>28.75</td>\n",
              "      <td>28.87</td>\n",
              "      <td>28.75</td>\n",
              "      <td>28.75</td>\n",
              "      <td>0.45</td>\n",
              "    </tr>\n",
              "    <tr>\n",
              "      <th>1980-12-15</th>\n",
              "      <th>43971200</th>\n",
              "      <td>27.38</td>\n",
              "      <td>27.38</td>\n",
              "      <td>27.25</td>\n",
              "      <td>27.25</td>\n",
              "      <td>0.42</td>\n",
              "    </tr>\n",
              "    <tr>\n",
              "      <th>1980-12-16</th>\n",
              "      <th>26432000</th>\n",
              "      <td>25.37</td>\n",
              "      <td>25.37</td>\n",
              "      <td>25.25</td>\n",
              "      <td>25.25</td>\n",
              "      <td>0.39</td>\n",
              "    </tr>\n",
              "    <tr>\n",
              "      <th>1980-12-17</th>\n",
              "      <th>21610400</th>\n",
              "      <td>25.87</td>\n",
              "      <td>26.00</td>\n",
              "      <td>25.87</td>\n",
              "      <td>25.87</td>\n",
              "      <td>0.40</td>\n",
              "    </tr>\n",
              "    <tr>\n",
              "      <th>1980-12-18</th>\n",
              "      <th>18362400</th>\n",
              "      <td>26.63</td>\n",
              "      <td>26.75</td>\n",
              "      <td>26.63</td>\n",
              "      <td>26.63</td>\n",
              "      <td>0.41</td>\n",
              "    </tr>\n",
              "  </tbody>\n",
              "</table>\n",
              "</div>"
            ],
            "text/plain": [
              "                       Open   High    Low  Close  Adj Close\n",
              "Date       Volume                                          \n",
              "1980-12-12 117258400  28.75  28.87  28.75  28.75       0.45\n",
              "1980-12-15 43971200   27.38  27.38  27.25  27.25       0.42\n",
              "1980-12-16 26432000   25.37  25.37  25.25  25.25       0.39\n",
              "1980-12-17 21610400   25.87  26.00  25.87  25.87       0.40\n",
              "1980-12-18 18362400   26.63  26.75  26.63  26.63       0.41"
            ]
          },
          "metadata": {
            "tags": []
          },
          "execution_count": 32
        }
      ]
    },
    {
      "cell_type": "markdown",
      "metadata": {
        "id": "k227pf0RIPgM"
      },
      "source": [
        "2. Найдите строки сразу по двум индексам ((используйте метод xs) и присвойте их отдельным переменным: \r\n",
        "\r\n",
        "I. с датой 1981-06-16 и объемом 9312800 \r\n",
        "\r\n",
        "II. с датой 1990-11-07 и объемом 50744400\r\n"
      ]
    },
    {
      "cell_type": "code",
      "metadata": {
        "id": "J38lPzy3OIFb"
      },
      "source": [
        "#Решение\r\n",
        "ser1 = df_multiind.xs(('1981-06-16', 9312800))\r\n",
        "ser2 = df_multiind.xs(('1990-11-07', 50744400))"
      ],
      "execution_count": 33,
      "outputs": []
    },
    {
      "cell_type": "markdown",
      "metadata": {
        "id": "jajUg6mjJTxQ"
      },
      "source": [
        "3. Какой тип данных у получившихся объектов?"
      ]
    },
    {
      "cell_type": "code",
      "metadata": {
        "colab": {
          "base_uri": "https://localhost:8080/"
        },
        "id": "hYjYzf7HaSKn",
        "outputId": "1d28de4f-f7d7-44a5-d8ed-4f0f429bf685"
      },
      "source": [
        "type(ser1)"
      ],
      "execution_count": 34,
      "outputs": [
        {
          "output_type": "execute_result",
          "data": {
            "text/plain": [
              "pandas.core.series.Series"
            ]
          },
          "metadata": {
            "tags": []
          },
          "execution_count": 34
        }
      ]
    },
    {
      "cell_type": "markdown",
      "metadata": {
        "id": "G5FagUIZRGf9"
      },
      "source": [
        "#Ответ\r\n",
        "Series"
      ]
    },
    {
      "cell_type": "markdown",
      "metadata": {
        "id": "yGA-3kJARKMd"
      },
      "source": [
        "4. Создайте новый объект с суммой по каждому ключу. "
      ]
    },
    {
      "cell_type": "code",
      "metadata": {
        "colab": {
          "base_uri": "https://localhost:8080/"
        },
        "id": "iFv-oxR2Ruu2",
        "outputId": "ac0213ec-e761-487f-bb51-418b369a5b67"
      },
      "source": [
        "#Решение\r\n",
        "ser3 = ser1 + ser2\r\n",
        "ser3"
      ],
      "execution_count": 35,
      "outputs": [
        {
          "output_type": "execute_result",
          "data": {
            "text/plain": [
              "Open         65.38\n",
              "High         65.63\n",
              "Low          64.38\n",
              "Close        65.00\n",
              "Adj Close     1.56\n",
              "dtype: float64"
            ]
          },
          "metadata": {
            "tags": []
          },
          "execution_count": 35
        }
      ]
    },
    {
      "cell_type": "markdown",
      "metadata": {
        "id": "lZUMVX6wWBQT"
      },
      "source": [
        "5. Создайте новый датафрейм из трех получившихся объектов."
      ]
    },
    {
      "cell_type": "code",
      "metadata": {
        "colab": {
          "base_uri": "https://localhost:8080/",
          "height": 137
        },
        "id": "mCF8wtyqWJqP",
        "outputId": "c321df2a-68d5-4752-b5ce-0f8c440216b4"
      },
      "source": [
        "#Решение\r\n",
        "df_new = pd.DataFrame([ser1,ser2,ser3],[1,2,'summ'])\r\n",
        "df_new"
      ],
      "execution_count": 36,
      "outputs": [
        {
          "output_type": "execute_result",
          "data": {
            "text/html": [
              "<div>\n",
              "<style scoped>\n",
              "    .dataframe tbody tr th:only-of-type {\n",
              "        vertical-align: middle;\n",
              "    }\n",
              "\n",
              "    .dataframe tbody tr th {\n",
              "        vertical-align: top;\n",
              "    }\n",
              "\n",
              "    .dataframe thead th {\n",
              "        text-align: right;\n",
              "    }\n",
              "</style>\n",
              "<table border=\"1\" class=\"dataframe\">\n",
              "  <thead>\n",
              "    <tr style=\"text-align: right;\">\n",
              "      <th></th>\n",
              "      <th>Open</th>\n",
              "      <th>High</th>\n",
              "      <th>Low</th>\n",
              "      <th>Close</th>\n",
              "      <th>Adj Close</th>\n",
              "    </tr>\n",
              "  </thead>\n",
              "  <tbody>\n",
              "    <tr>\n",
              "      <th>1</th>\n",
              "      <td>31.88</td>\n",
              "      <td>31.88</td>\n",
              "      <td>31.75</td>\n",
              "      <td>31.75</td>\n",
              "      <td>0.49</td>\n",
              "    </tr>\n",
              "    <tr>\n",
              "      <th>2</th>\n",
              "      <td>33.50</td>\n",
              "      <td>33.75</td>\n",
              "      <td>32.63</td>\n",
              "      <td>33.25</td>\n",
              "      <td>1.07</td>\n",
              "    </tr>\n",
              "    <tr>\n",
              "      <th>summ</th>\n",
              "      <td>65.38</td>\n",
              "      <td>65.63</td>\n",
              "      <td>64.38</td>\n",
              "      <td>65.00</td>\n",
              "      <td>1.56</td>\n",
              "    </tr>\n",
              "  </tbody>\n",
              "</table>\n",
              "</div>"
            ],
            "text/plain": [
              "       Open   High    Low  Close  Adj Close\n",
              "1     31.88  31.88  31.75  31.75       0.49\n",
              "2     33.50  33.75  32.63  33.25       1.07\n",
              "summ  65.38  65.63  64.38  65.00       1.56"
            ]
          },
          "metadata": {
            "tags": []
          },
          "execution_count": 36
        }
      ]
    }
  ]
}