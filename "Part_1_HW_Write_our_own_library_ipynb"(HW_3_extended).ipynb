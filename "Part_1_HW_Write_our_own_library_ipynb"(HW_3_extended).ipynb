{
  "nbformat": 4,
  "nbformat_minor": 0,
  "metadata": {
    "colab": {
      "name": "\"Part_1_HW_Write_our_own_library.ipynb\"",
      "provenance": [],
      "collapsed_sections": [],
      "include_colab_link": true
    },
    "kernelspec": {
      "display_name": "Python 3",
      "name": "python3"
    }
  },
  "cells": [
    {
      "cell_type": "markdown",
      "metadata": {
        "id": "view-in-github",
        "colab_type": "text"
      },
      "source": [
        "<a href=\"https://colab.research.google.com/github/ArtemkaDS/homework/blob/main/%22Part_1_HW_Write_our_own_library_ipynb%22(HW_3_extended).ipynb\" target=\"_parent\"><img src=\"https://colab.research.google.com/assets/colab-badge.svg\" alt=\"Open In Colab\"/></a>"
      ]
    },
    {
      "cell_type": "markdown",
      "metadata": {
        "id": "-PkQ9hSoulSP"
      },
      "source": [
        "## Домашнее задание. Часть 1.\n",
        "\n",
        "- напишем свою собственную библиотеку\n",
        "\n",
        "Вего за эту часть ДЗ можно набрать максимум **11.5 баллов**. Разбиение баллов по каждой из задач представлено непосредственно перед текстом каждой задачи.\n",
        "\n",
        "**Дедлайн - пятница, 11.12.2020 в 23:59.**\n",
        "\n",
        "Дедлайн жесткий, сдача после дедлайна - 0 баллов за ДЗ."
      ]
    },
    {
      "cell_type": "markdown",
      "metadata": {
        "id": "raMUrDs_OUUp"
      },
      "source": [
        "Ссылка на ноутбук в колабе: https://colab.research.google.com/drive/1LgWtESFmiNW1WlVFCHKyNl_BxAWxoL3Z?usp=sharing"
      ]
    },
    {
      "cell_type": "markdown",
      "metadata": {
        "id": "DlJPKMxvBZDq"
      },
      "source": [
        "Допустим мы хотим написать фнкцию, которая складывает 2 числа и сохранить ее в отдельный .py файл. Пример:"
      ]
    },
    {
      "cell_type": "code",
      "metadata": {
        "colab": {
          "base_uri": "https://localhost:8080/"
        },
        "id": "YWxx_tJFBWXc",
        "outputId": "623852bb-cea8-456c-aa3d-e3e8137fb8d4"
      },
      "source": [
        "%%writefile lib.py\n",
        "def summ(a1, b1):\n",
        "    return a1+b1"
      ],
      "execution_count": null,
      "outputs": [
        {
          "output_type": "stream",
          "text": [
            "Writing lib.py\n"
          ],
          "name": "stdout"
        }
      ]
    },
    {
      "cell_type": "code",
      "metadata": {
        "id": "GpwqwV2XBWe0"
      },
      "source": [
        "from lib import summ"
      ],
      "execution_count": null,
      "outputs": []
    },
    {
      "cell_type": "code",
      "metadata": {
        "colab": {
          "base_uri": "https://localhost:8080/"
        },
        "id": "PdSwrEkYud_1",
        "outputId": "dca06f73-1e8c-4b17-ff01-09d5d1d71383"
      },
      "source": [
        "summ(2,6)"
      ],
      "execution_count": null,
      "outputs": [
        {
          "output_type": "execute_result",
          "data": {
            "text/plain": [
              "8"
            ]
          },
          "metadata": {
            "tags": []
          },
          "execution_count": 3
        }
      ]
    },
    {
      "cell_type": "markdown",
      "metadata": {
        "id": "lzVEq6dcB_B6"
      },
      "source": [
        "Попробуем запустить через \"терминал\""
      ]
    },
    {
      "cell_type": "code",
      "metadata": {
        "id": "GnvjY52dB9F0"
      },
      "source": [
        "!python3 lib.py"
      ],
      "execution_count": null,
      "outputs": []
    },
    {
      "cell_type": "markdown",
      "metadata": {
        "id": "12k4C-iDCGD5"
      },
      "source": [
        "Ничего не происходит. А теперь добавим `if __name__ == \"__main__\"` в наш код и пересохраним файл lib.py"
      ]
    },
    {
      "cell_type": "code",
      "metadata": {
        "colab": {
          "base_uri": "https://localhost:8080/"
        },
        "id": "EXxDy4EoujyT",
        "outputId": "f1d782a5-166e-4d99-9a3e-e0b1baa24bf9"
      },
      "source": [
        "%%writefile lib.py\n",
        "import sys\n",
        "\n",
        "a1 = float( sys.argv[1] ) # Считываем аргументы прямо из терминала\n",
        "b1 = float( sys.argv[2] ) # Считываем аргументы прямо из терминала\n",
        "\n",
        "def summ(a1, b1):\n",
        "    return a1+b1\n",
        "\n",
        "if __name__ == \"__main__\":\n",
        "    print(summ(a1, b1))\n"
      ],
      "execution_count": null,
      "outputs": [
        {
          "output_type": "stream",
          "text": [
            "Overwriting lib.py\n"
          ],
          "name": "stdout"
        }
      ]
    },
    {
      "cell_type": "code",
      "metadata": {
        "colab": {
          "base_uri": "https://localhost:8080/"
        },
        "id": "9kg9IKcWuj1F",
        "outputId": "d5b4f20a-459f-4541-d854-f38df02366ac"
      },
      "source": [
        "!python3 lib.py 2 4"
      ],
      "execution_count": null,
      "outputs": [
        {
          "output_type": "stream",
          "text": [
            "6.0\n"
          ],
          "name": "stdout"
        }
      ]
    },
    {
      "cell_type": "markdown",
      "metadata": {
        "id": "MEQd0OJnD4ut"
      },
      "source": [
        "# **Задание 1**\n",
        "\n",
        "Реализуйте следующие функции и сохраните их в библиотеку **my_math_lib.py** (пока без использования конструкции `if __name__ == \"__main__\"`)"
      ]
    },
    {
      "cell_type": "markdown",
      "metadata": {
        "id": "-irvYNmrD9FA"
      },
      "source": [
        "**1 point** \n",
        "1. **def deg_to_rad()**. Напишите программу на Python для преобразования градусов в радианы.  *(Note: Радиан - это стандартная единица измерения угла, используемая во многих областях математики. Измерение угла в радианах численно равно длине соответствующей дуги единичного круга; один радиан чуть меньше 57,3 градуса)* **1 point**\n",
        "\n",
        "**1 point** \n",
        "2. **def rad_to_def()**. Напишите программу Python для преобразования радианов в градусы.\n",
        "\n",
        "**1.5 point** \n",
        "3. **def discriminant()**. Напишите программу на Python для вычисления значения дискриминанта (вспоминаем квадратные уравнения). Входные данные три числа: x, y, z (учтите что корни могут быть комлЕксными!)\n",
        "\n",
        "**1.5 point** \n",
        "4. **def power_base_sum()**. Напишите программу на Python, чтобы вычислить сумму всех цифр основания в указанной степени.\n",
        "\n",
        "Пример: power_base_sum(2, 100)\n",
        "\n",
        "Выход: 115\n",
        "\n",
        "\n",
        "\n",
        "**2 point** \n",
        "5. **def magic_square()**. Напишите программу на Python для вычисления [магического квадрата](https://ru.wikipedia.org/wiki/Магический_квадрат)\n",
        "\n",
        "Note:\n",
        "\n",
        "Магический, или волшебный квадрат — это квадратная таблица , заполненная числами таким образом, что сумма чисел в каждой строке, каждом столбце и на обеих диагоналях одинакова. Сумма чисел в каждой строке, столбце и на диагоналях, называется магической константой, M.\n",
        "\n",
        "**1 point** \n",
        "6. **def mult_list()**. Напишите функцию Python для умножения всех чисел в массиве list(), (размер листа на входе произвольный)\n",
        "\n",
        "**1 point** \n",
        "7. **def create_list()**. Напишите функцию Python для создания и вывода списка (при помощи print()), в котором значения представляют собой квадрат чисел от 1 до 30 (оба включительно)."
      ]
    },
    {
      "cell_type": "code",
      "metadata": {
        "colab": {
          "base_uri": "https://localhost:8080/"
        },
        "id": "cxjYPNRAIBqe",
        "outputId": "6cb43a9a-30b5-4fc1-87a2-af122e053503"
      },
      "source": [
        "#TODO\n",
        "%%writefile my_math_lib.py\n",
        "\n",
        "import numpy as np\n",
        "\n",
        "def deg_to_rad(deg):\n",
        "    rad = deg / 57.2958\n",
        "    return rad\n",
        "\n",
        "def rad_to_deg(rad):\n",
        "    deg = rad * 57.2958\n",
        "    return deg\n",
        "\n",
        "def discriminant(x,y,z):\n",
        "    discriminant = (y ** 2) - (4 * x * z)\n",
        "    return discriminant\n",
        "\n",
        "def power_base_sum(base, power):\n",
        "    return sum([int(i) for i in str(pow(base, power))])\n",
        "\n",
        "def magic_square(n):\n",
        "    magic_square = np.zeros((n, n), dtype='int64')\n",
        "    count = 1\n",
        "    x = 0\n",
        "    y = n // 2\n",
        "    while count <= n ** 2:\n",
        "        magic_square[x, y] = count\n",
        "        count += 1\n",
        "        x1 = (x - 1) % n\n",
        "        y1 = (y + 1) % n\n",
        "        if magic_square[x1, y1]:\n",
        "            x += 1\n",
        "        else:\n",
        "            x = x1\n",
        "            y = y1\n",
        "    return magic_square\n",
        "\n",
        "def mult_list():\n",
        "    list = [int(i) for i in input().split()]\n",
        "    result = np.prod(list)\n",
        "    return result\n",
        "\n",
        "def mult_list_1():\n",
        "    list = [int(i) for i in input().split()]\n",
        "    res = 1\n",
        "    for i in list:\n",
        "        res *= i\n",
        "    return res\n",
        "\n",
        "def create_list():\n",
        "    list_done = []\n",
        "    list = [int(i) for i in range(1,31)]\n",
        "    for i in list:\n",
        "        i **= 2\n",
        "        list_done.append(i)\n",
        "    print(list_done)"
      ],
      "execution_count": null,
      "outputs": [
        {
          "output_type": "stream",
          "text": [
            "Writing my_math_lib.py\n"
          ],
          "name": "stdout"
        }
      ]
    },
    {
      "cell_type": "markdown",
      "metadata": {
        "id": "cSdLK3ZSID3B"
      },
      "source": [
        "# **Задание 2**\n",
        "Импортируйте все методы из модуля my_math_lib.\n",
        "\n",
        " **0.25 point** \n",
        " - при помощи функции **def discriminant()** посчитайте дискриминант следующего уравнения: \n",
        " $x^{2}+3 x+4=0$\n",
        "\n",
        "**0.25 point** \n",
        " - постройте магический квадрат размера 5х5"
      ]
    },
    {
      "cell_type": "code",
      "metadata": {
        "id": "k1Jhjs6FD8Sy"
      },
      "source": [
        "from my_math_lib import * #TODO"
      ],
      "execution_count": null,
      "outputs": []
    },
    {
      "cell_type": "code",
      "metadata": {
        "colab": {
          "base_uri": "https://localhost:8080/"
        },
        "id": "zjQVS7m8uj4J",
        "outputId": "294cc57c-857f-4718-8fe1-b8dc6a90288a"
      },
      "source": [
        "discriminant(1,3,4)"
      ],
      "execution_count": null,
      "outputs": [
        {
          "output_type": "execute_result",
          "data": {
            "text/plain": [
              "-7"
            ]
          },
          "metadata": {
            "tags": []
          },
          "execution_count": 3
        }
      ]
    },
    {
      "cell_type": "code",
      "metadata": {
        "colab": {
          "base_uri": "https://localhost:8080/"
        },
        "id": "1jfJX0a-ymEI",
        "outputId": "763e36ef-8f2a-4bdb-910d-9d4e79b3b8a3"
      },
      "source": [
        "magic_square(5)"
      ],
      "execution_count": null,
      "outputs": [
        {
          "output_type": "execute_result",
          "data": {
            "text/plain": [
              "array([[17, 24,  1,  8, 15],\n",
              "       [23,  5,  7, 14, 16],\n",
              "       [ 4,  6, 13, 20, 22],\n",
              "       [10, 12, 19, 21,  3],\n",
              "       [11, 18, 25,  2,  9]])"
            ]
          },
          "metadata": {
            "tags": []
          },
          "execution_count": 6
        }
      ]
    },
    {
      "cell_type": "markdown",
      "metadata": {
        "id": "1xqoQlZkId3s"
      },
      "source": [
        "# **Задание 3**\n",
        "\n",
        "**2 point**\n",
        "* Добавьте в вашу библиотеку конструкцию `if __name__ == \"__main__\"`, которая должна принимать одну из вышеперечисленных функций. \n",
        "* Важно! аргументы, подаваемые в функцию, должны подаваться напряму через терминал (как в примере)! Используйте для этого библиотеку `sys`"
      ]
    },
    {
      "cell_type": "code",
      "metadata": {
        "colab": {
          "base_uri": "https://localhost:8080/"
        },
        "id": "CPMx4V4DJIVx",
        "outputId": "1bda5894-43ae-49d2-9d81-4e817535f77d"
      },
      "source": [
        "#TODO\r\n",
        "# Выбрал функцию magic_square\r\n",
        "%%writefile my_math_lib.py\r\n",
        "\r\n",
        "import numpy as np\r\n",
        "import sys\r\n",
        "\r\n",
        "def deg_to_rad(deg):\r\n",
        "    rad = deg / 57.2958 #либо импортировать math и юзать pi\r\n",
        "    return rad\r\n",
        "\r\n",
        "def rad_to_deg(rad):\r\n",
        "    deg = rad * 57.2958\r\n",
        "    return deg\r\n",
        "\r\n",
        "def discriminant(x,y,z):\r\n",
        "    discriminant = (y ** 2) - (4 * x * z)\r\n",
        "    return discriminant\r\n",
        "\r\n",
        "def power_base_sum(base, power):\r\n",
        "    return sum([int(i) for i in str(pow(base, power))])\r\n",
        "\r\n",
        "n = int( sys.argv[1] )\r\n",
        "\r\n",
        "def magic_square(n):\r\n",
        "    magic_square = np.zeros((n, n), dtype='int64')\r\n",
        "    count = 1\r\n",
        "    x = 0\r\n",
        "    y = n // 2\r\n",
        "    while count <= n ** 2:\r\n",
        "        magic_square[x, y] = count\r\n",
        "        count += 1\r\n",
        "        x1 = (x - 1) % n\r\n",
        "        y1 = (y + 1) % n\r\n",
        "        if magic_square[x1, y1]:\r\n",
        "            x += 1\r\n",
        "        else:\r\n",
        "            x = x1\r\n",
        "            y = y1\r\n",
        "    return magic_square\r\n",
        "\r\n",
        "if __name__ == \"__main__\":\r\n",
        "    print(magic_square(n))\r\n",
        "\r\n",
        "def mult_list():\r\n",
        "    list = [int(i) for i in input().split()]\r\n",
        "    result = np.prod(list)\r\n",
        "    return result\r\n",
        "\r\n",
        "def mult_list_1():\r\n",
        "    list = [int(i) for i in input().split()]\r\n",
        "    res = 1\r\n",
        "    for i in list:\r\n",
        "        res *= i\r\n",
        "    return res\r\n",
        "\r\n",
        "def create_list():\r\n",
        "    list_done = []\r\n",
        "    list = [int(i) for i in range(1,31)]\r\n",
        "    for i in list:\r\n",
        "        i **= 2\r\n",
        "        list_done.append(i)\r\n",
        "    print(list_done)"
      ],
      "execution_count": 10,
      "outputs": [
        {
          "output_type": "stream",
          "text": [
            "Overwriting my_math_lib.py\n"
          ],
          "name": "stdout"
        }
      ]
    },
    {
      "cell_type": "code",
      "metadata": {
        "colab": {
          "base_uri": "https://localhost:8080/"
        },
        "id": "RAeJ3p1BJX05",
        "outputId": "8e001fd8-fdee-4056-e453-115c96f1ce3f"
      },
      "source": [
        "# Пример вызова функции - Вы можете вызвать любую другую\n",
        "!python3 my_math_lib.py 9 # Например если в __main__ вы указали def discriminant()"
      ],
      "execution_count": 11,
      "outputs": [
        {
          "output_type": "stream",
          "text": [
            "[[47 58 69 80  1 12 23 34 45]\n",
            " [57 68 79  9 11 22 33 44 46]\n",
            " [67 78  8 10 21 32 43 54 56]\n",
            " [77  7 18 20 31 42 53 55 66]\n",
            " [ 6 17 19 30 41 52 63 65 76]\n",
            " [16 27 29 40 51 62 64 75  5]\n",
            " [26 28 39 50 61 72 74  4 15]\n",
            " [36 38 49 60 71 73  3 14 25]\n",
            " [37 48 59 70 81  2 13 24 35]]\n"
          ],
          "name": "stdout"
        }
      ]
    }
  ]
}